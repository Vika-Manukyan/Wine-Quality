{
 "cells": [
  {
   "cell_type": "markdown",
   "metadata": {},
   "source": [
    "# Wine Quality"
   ]
  },
  {
   "cell_type": "markdown",
   "metadata": {},
   "source": [
    "### It’s a well-established fact that age makes wine better – the older the wine, the better it will taste. However, age is not the only thing that determines a wine’s taste. Numerous factors determine the wine quality certification, including physicochemical tests such as alcohol quantity, fixed acidity, volatile acidity, density, and pH level, to name a few. \n",
    "\n"
   ]
  },
  {
   "cell_type": "code",
   "execution_count": 36,
   "metadata": {},
   "outputs": [],
   "source": [
    "import warnings\n",
    "warnings.filterwarnings(\"ignore\")\n",
    "import pandas as pd\n",
    "import numpy as np\n",
    "import ipywidgets as widgets\n",
    "from ipywidgets import interact\n",
    "from sklearn.metrics import accuracy_score\n",
    "from sklearn.metrics import classification_report\n",
    "from sklearn.metrics import ConfusionMatrixDisplay\n",
    "from sklearn.metrics import confusion_matrix\n",
    "from sklearn.model_selection import KFold\n"
   ]
  },
  {
   "cell_type": "code",
   "execution_count": 2,
   "metadata": {},
   "outputs": [
    {
     "data": {
      "text/html": [
       "<div>\n",
       "<style scoped>\n",
       "    .dataframe tbody tr th:only-of-type {\n",
       "        vertical-align: middle;\n",
       "    }\n",
       "\n",
       "    .dataframe tbody tr th {\n",
       "        vertical-align: top;\n",
       "    }\n",
       "\n",
       "    .dataframe thead th {\n",
       "        text-align: right;\n",
       "    }\n",
       "</style>\n",
       "<table border=\"1\" class=\"dataframe\">\n",
       "  <thead>\n",
       "    <tr style=\"text-align: right;\">\n",
       "      <th></th>\n",
       "      <th>type</th>\n",
       "      <th>fixed acidity</th>\n",
       "      <th>volatile acidity</th>\n",
       "      <th>citric acid</th>\n",
       "      <th>residual sugar</th>\n",
       "      <th>chlorides</th>\n",
       "      <th>free sulfur dioxide</th>\n",
       "      <th>total sulfur dioxide</th>\n",
       "      <th>density</th>\n",
       "      <th>pH</th>\n",
       "      <th>sulphates</th>\n",
       "      <th>alcohol</th>\n",
       "      <th>quality</th>\n",
       "    </tr>\n",
       "  </thead>\n",
       "  <tbody>\n",
       "    <tr>\n",
       "      <th>0</th>\n",
       "      <td>white</td>\n",
       "      <td>7.0</td>\n",
       "      <td>0.270</td>\n",
       "      <td>0.36</td>\n",
       "      <td>20.7</td>\n",
       "      <td>0.045</td>\n",
       "      <td>45.0</td>\n",
       "      <td>170.0</td>\n",
       "      <td>1.00100</td>\n",
       "      <td>3.00</td>\n",
       "      <td>0.45</td>\n",
       "      <td>8.8</td>\n",
       "      <td>6</td>\n",
       "    </tr>\n",
       "    <tr>\n",
       "      <th>1</th>\n",
       "      <td>white</td>\n",
       "      <td>6.3</td>\n",
       "      <td>0.300</td>\n",
       "      <td>0.34</td>\n",
       "      <td>1.6</td>\n",
       "      <td>0.049</td>\n",
       "      <td>14.0</td>\n",
       "      <td>132.0</td>\n",
       "      <td>0.99400</td>\n",
       "      <td>3.30</td>\n",
       "      <td>0.49</td>\n",
       "      <td>9.5</td>\n",
       "      <td>6</td>\n",
       "    </tr>\n",
       "    <tr>\n",
       "      <th>2</th>\n",
       "      <td>white</td>\n",
       "      <td>8.1</td>\n",
       "      <td>0.280</td>\n",
       "      <td>0.40</td>\n",
       "      <td>6.9</td>\n",
       "      <td>0.050</td>\n",
       "      <td>30.0</td>\n",
       "      <td>97.0</td>\n",
       "      <td>0.99510</td>\n",
       "      <td>3.26</td>\n",
       "      <td>0.44</td>\n",
       "      <td>10.1</td>\n",
       "      <td>6</td>\n",
       "    </tr>\n",
       "    <tr>\n",
       "      <th>3</th>\n",
       "      <td>white</td>\n",
       "      <td>7.2</td>\n",
       "      <td>0.230</td>\n",
       "      <td>0.32</td>\n",
       "      <td>8.5</td>\n",
       "      <td>0.058</td>\n",
       "      <td>47.0</td>\n",
       "      <td>186.0</td>\n",
       "      <td>0.99560</td>\n",
       "      <td>3.19</td>\n",
       "      <td>0.40</td>\n",
       "      <td>9.9</td>\n",
       "      <td>6</td>\n",
       "    </tr>\n",
       "    <tr>\n",
       "      <th>4</th>\n",
       "      <td>white</td>\n",
       "      <td>7.2</td>\n",
       "      <td>0.230</td>\n",
       "      <td>0.32</td>\n",
       "      <td>8.5</td>\n",
       "      <td>0.058</td>\n",
       "      <td>47.0</td>\n",
       "      <td>186.0</td>\n",
       "      <td>0.99560</td>\n",
       "      <td>3.19</td>\n",
       "      <td>0.40</td>\n",
       "      <td>9.9</td>\n",
       "      <td>6</td>\n",
       "    </tr>\n",
       "    <tr>\n",
       "      <th>...</th>\n",
       "      <td>...</td>\n",
       "      <td>...</td>\n",
       "      <td>...</td>\n",
       "      <td>...</td>\n",
       "      <td>...</td>\n",
       "      <td>...</td>\n",
       "      <td>...</td>\n",
       "      <td>...</td>\n",
       "      <td>...</td>\n",
       "      <td>...</td>\n",
       "      <td>...</td>\n",
       "      <td>...</td>\n",
       "      <td>...</td>\n",
       "    </tr>\n",
       "    <tr>\n",
       "      <th>6492</th>\n",
       "      <td>red</td>\n",
       "      <td>6.2</td>\n",
       "      <td>0.600</td>\n",
       "      <td>0.08</td>\n",
       "      <td>2.0</td>\n",
       "      <td>0.090</td>\n",
       "      <td>32.0</td>\n",
       "      <td>44.0</td>\n",
       "      <td>0.99490</td>\n",
       "      <td>3.45</td>\n",
       "      <td>0.58</td>\n",
       "      <td>10.5</td>\n",
       "      <td>5</td>\n",
       "    </tr>\n",
       "    <tr>\n",
       "      <th>6493</th>\n",
       "      <td>red</td>\n",
       "      <td>5.9</td>\n",
       "      <td>0.550</td>\n",
       "      <td>0.10</td>\n",
       "      <td>2.2</td>\n",
       "      <td>0.062</td>\n",
       "      <td>39.0</td>\n",
       "      <td>51.0</td>\n",
       "      <td>0.99512</td>\n",
       "      <td>3.52</td>\n",
       "      <td>NaN</td>\n",
       "      <td>11.2</td>\n",
       "      <td>6</td>\n",
       "    </tr>\n",
       "    <tr>\n",
       "      <th>6494</th>\n",
       "      <td>red</td>\n",
       "      <td>6.3</td>\n",
       "      <td>0.510</td>\n",
       "      <td>0.13</td>\n",
       "      <td>2.3</td>\n",
       "      <td>0.076</td>\n",
       "      <td>29.0</td>\n",
       "      <td>40.0</td>\n",
       "      <td>0.99574</td>\n",
       "      <td>3.42</td>\n",
       "      <td>0.75</td>\n",
       "      <td>11.0</td>\n",
       "      <td>6</td>\n",
       "    </tr>\n",
       "    <tr>\n",
       "      <th>6495</th>\n",
       "      <td>red</td>\n",
       "      <td>5.9</td>\n",
       "      <td>0.645</td>\n",
       "      <td>0.12</td>\n",
       "      <td>2.0</td>\n",
       "      <td>0.075</td>\n",
       "      <td>32.0</td>\n",
       "      <td>44.0</td>\n",
       "      <td>0.99547</td>\n",
       "      <td>3.57</td>\n",
       "      <td>0.71</td>\n",
       "      <td>10.2</td>\n",
       "      <td>5</td>\n",
       "    </tr>\n",
       "    <tr>\n",
       "      <th>6496</th>\n",
       "      <td>red</td>\n",
       "      <td>6.0</td>\n",
       "      <td>0.310</td>\n",
       "      <td>0.47</td>\n",
       "      <td>3.6</td>\n",
       "      <td>0.067</td>\n",
       "      <td>18.0</td>\n",
       "      <td>42.0</td>\n",
       "      <td>0.99549</td>\n",
       "      <td>3.39</td>\n",
       "      <td>0.66</td>\n",
       "      <td>11.0</td>\n",
       "      <td>6</td>\n",
       "    </tr>\n",
       "  </tbody>\n",
       "</table>\n",
       "<p>6497 rows × 13 columns</p>\n",
       "</div>"
      ],
      "text/plain": [
       "       type  fixed acidity  volatile acidity  citric acid  residual sugar  \\\n",
       "0     white            7.0             0.270         0.36            20.7   \n",
       "1     white            6.3             0.300         0.34             1.6   \n",
       "2     white            8.1             0.280         0.40             6.9   \n",
       "3     white            7.2             0.230         0.32             8.5   \n",
       "4     white            7.2             0.230         0.32             8.5   \n",
       "...     ...            ...               ...          ...             ...   \n",
       "6492    red            6.2             0.600         0.08             2.0   \n",
       "6493    red            5.9             0.550         0.10             2.2   \n",
       "6494    red            6.3             0.510         0.13             2.3   \n",
       "6495    red            5.9             0.645         0.12             2.0   \n",
       "6496    red            6.0             0.310         0.47             3.6   \n",
       "\n",
       "      chlorides  free sulfur dioxide  total sulfur dioxide  density    pH  \\\n",
       "0         0.045                 45.0                 170.0  1.00100  3.00   \n",
       "1         0.049                 14.0                 132.0  0.99400  3.30   \n",
       "2         0.050                 30.0                  97.0  0.99510  3.26   \n",
       "3         0.058                 47.0                 186.0  0.99560  3.19   \n",
       "4         0.058                 47.0                 186.0  0.99560  3.19   \n",
       "...         ...                  ...                   ...      ...   ...   \n",
       "6492      0.090                 32.0                  44.0  0.99490  3.45   \n",
       "6493      0.062                 39.0                  51.0  0.99512  3.52   \n",
       "6494      0.076                 29.0                  40.0  0.99574  3.42   \n",
       "6495      0.075                 32.0                  44.0  0.99547  3.57   \n",
       "6496      0.067                 18.0                  42.0  0.99549  3.39   \n",
       "\n",
       "      sulphates  alcohol  quality  \n",
       "0          0.45      8.8        6  \n",
       "1          0.49      9.5        6  \n",
       "2          0.44     10.1        6  \n",
       "3          0.40      9.9        6  \n",
       "4          0.40      9.9        6  \n",
       "...         ...      ...      ...  \n",
       "6492       0.58     10.5        5  \n",
       "6493        NaN     11.2        6  \n",
       "6494       0.75     11.0        6  \n",
       "6495       0.71     10.2        5  \n",
       "6496       0.66     11.0        6  \n",
       "\n",
       "[6497 rows x 13 columns]"
      ]
     },
     "execution_count": 2,
     "metadata": {},
     "output_type": "execute_result"
    }
   ],
   "source": [
    "df = pd.read_csv(\"winequalityN.csv\")\n",
    "df"
   ]
  },
  {
   "cell_type": "markdown",
   "metadata": {},
   "source": [
    "# Data Processing"
   ]
  },
  {
   "cell_type": "code",
   "execution_count": 3,
   "metadata": {},
   "outputs": [
    {
     "data": {
      "text/html": [
       "<div>\n",
       "<style scoped>\n",
       "    .dataframe tbody tr th:only-of-type {\n",
       "        vertical-align: middle;\n",
       "    }\n",
       "\n",
       "    .dataframe tbody tr th {\n",
       "        vertical-align: top;\n",
       "    }\n",
       "\n",
       "    .dataframe thead th {\n",
       "        text-align: right;\n",
       "    }\n",
       "</style>\n",
       "<table border=\"1\" class=\"dataframe\">\n",
       "  <thead>\n",
       "    <tr style=\"text-align: right;\">\n",
       "      <th></th>\n",
       "      <th>type</th>\n",
       "      <th>fixed acidity</th>\n",
       "      <th>volatile acidity</th>\n",
       "      <th>citric acid</th>\n",
       "      <th>residual sugar</th>\n",
       "      <th>chlorides</th>\n",
       "      <th>free sulfur dioxide</th>\n",
       "      <th>total sulfur dioxide</th>\n",
       "      <th>density</th>\n",
       "      <th>pH</th>\n",
       "      <th>sulphates</th>\n",
       "      <th>alcohol</th>\n",
       "      <th>quality</th>\n",
       "    </tr>\n",
       "  </thead>\n",
       "  <tbody>\n",
       "    <tr>\n",
       "      <th>0</th>\n",
       "      <td>white</td>\n",
       "      <td>7.0</td>\n",
       "      <td>0.270</td>\n",
       "      <td>0.36</td>\n",
       "      <td>20.7</td>\n",
       "      <td>0.045</td>\n",
       "      <td>45.0</td>\n",
       "      <td>170.0</td>\n",
       "      <td>1.00100</td>\n",
       "      <td>3.00</td>\n",
       "      <td>0.45</td>\n",
       "      <td>8.8</td>\n",
       "      <td>0</td>\n",
       "    </tr>\n",
       "    <tr>\n",
       "      <th>1</th>\n",
       "      <td>white</td>\n",
       "      <td>6.3</td>\n",
       "      <td>0.300</td>\n",
       "      <td>0.34</td>\n",
       "      <td>1.6</td>\n",
       "      <td>0.049</td>\n",
       "      <td>14.0</td>\n",
       "      <td>132.0</td>\n",
       "      <td>0.99400</td>\n",
       "      <td>3.30</td>\n",
       "      <td>0.49</td>\n",
       "      <td>9.5</td>\n",
       "      <td>0</td>\n",
       "    </tr>\n",
       "    <tr>\n",
       "      <th>2</th>\n",
       "      <td>white</td>\n",
       "      <td>8.1</td>\n",
       "      <td>0.280</td>\n",
       "      <td>0.40</td>\n",
       "      <td>6.9</td>\n",
       "      <td>0.050</td>\n",
       "      <td>30.0</td>\n",
       "      <td>97.0</td>\n",
       "      <td>0.99510</td>\n",
       "      <td>3.26</td>\n",
       "      <td>0.44</td>\n",
       "      <td>10.1</td>\n",
       "      <td>0</td>\n",
       "    </tr>\n",
       "    <tr>\n",
       "      <th>3</th>\n",
       "      <td>white</td>\n",
       "      <td>7.2</td>\n",
       "      <td>0.230</td>\n",
       "      <td>0.32</td>\n",
       "      <td>8.5</td>\n",
       "      <td>0.058</td>\n",
       "      <td>47.0</td>\n",
       "      <td>186.0</td>\n",
       "      <td>0.99560</td>\n",
       "      <td>3.19</td>\n",
       "      <td>0.40</td>\n",
       "      <td>9.9</td>\n",
       "      <td>0</td>\n",
       "    </tr>\n",
       "    <tr>\n",
       "      <th>4</th>\n",
       "      <td>white</td>\n",
       "      <td>7.2</td>\n",
       "      <td>0.230</td>\n",
       "      <td>0.32</td>\n",
       "      <td>8.5</td>\n",
       "      <td>0.058</td>\n",
       "      <td>47.0</td>\n",
       "      <td>186.0</td>\n",
       "      <td>0.99560</td>\n",
       "      <td>3.19</td>\n",
       "      <td>0.40</td>\n",
       "      <td>9.9</td>\n",
       "      <td>0</td>\n",
       "    </tr>\n",
       "    <tr>\n",
       "      <th>...</th>\n",
       "      <td>...</td>\n",
       "      <td>...</td>\n",
       "      <td>...</td>\n",
       "      <td>...</td>\n",
       "      <td>...</td>\n",
       "      <td>...</td>\n",
       "      <td>...</td>\n",
       "      <td>...</td>\n",
       "      <td>...</td>\n",
       "      <td>...</td>\n",
       "      <td>...</td>\n",
       "      <td>...</td>\n",
       "      <td>...</td>\n",
       "    </tr>\n",
       "    <tr>\n",
       "      <th>6492</th>\n",
       "      <td>red</td>\n",
       "      <td>6.2</td>\n",
       "      <td>0.600</td>\n",
       "      <td>0.08</td>\n",
       "      <td>2.0</td>\n",
       "      <td>0.090</td>\n",
       "      <td>32.0</td>\n",
       "      <td>44.0</td>\n",
       "      <td>0.99490</td>\n",
       "      <td>3.45</td>\n",
       "      <td>0.58</td>\n",
       "      <td>10.5</td>\n",
       "      <td>0</td>\n",
       "    </tr>\n",
       "    <tr>\n",
       "      <th>6493</th>\n",
       "      <td>red</td>\n",
       "      <td>5.9</td>\n",
       "      <td>0.550</td>\n",
       "      <td>0.10</td>\n",
       "      <td>2.2</td>\n",
       "      <td>0.062</td>\n",
       "      <td>39.0</td>\n",
       "      <td>51.0</td>\n",
       "      <td>0.99512</td>\n",
       "      <td>3.52</td>\n",
       "      <td>NaN</td>\n",
       "      <td>11.2</td>\n",
       "      <td>0</td>\n",
       "    </tr>\n",
       "    <tr>\n",
       "      <th>6494</th>\n",
       "      <td>red</td>\n",
       "      <td>6.3</td>\n",
       "      <td>0.510</td>\n",
       "      <td>0.13</td>\n",
       "      <td>2.3</td>\n",
       "      <td>0.076</td>\n",
       "      <td>29.0</td>\n",
       "      <td>40.0</td>\n",
       "      <td>0.99574</td>\n",
       "      <td>3.42</td>\n",
       "      <td>0.75</td>\n",
       "      <td>11.0</td>\n",
       "      <td>0</td>\n",
       "    </tr>\n",
       "    <tr>\n",
       "      <th>6495</th>\n",
       "      <td>red</td>\n",
       "      <td>5.9</td>\n",
       "      <td>0.645</td>\n",
       "      <td>0.12</td>\n",
       "      <td>2.0</td>\n",
       "      <td>0.075</td>\n",
       "      <td>32.0</td>\n",
       "      <td>44.0</td>\n",
       "      <td>0.99547</td>\n",
       "      <td>3.57</td>\n",
       "      <td>0.71</td>\n",
       "      <td>10.2</td>\n",
       "      <td>0</td>\n",
       "    </tr>\n",
       "    <tr>\n",
       "      <th>6496</th>\n",
       "      <td>red</td>\n",
       "      <td>6.0</td>\n",
       "      <td>0.310</td>\n",
       "      <td>0.47</td>\n",
       "      <td>3.6</td>\n",
       "      <td>0.067</td>\n",
       "      <td>18.0</td>\n",
       "      <td>42.0</td>\n",
       "      <td>0.99549</td>\n",
       "      <td>3.39</td>\n",
       "      <td>0.66</td>\n",
       "      <td>11.0</td>\n",
       "      <td>0</td>\n",
       "    </tr>\n",
       "  </tbody>\n",
       "</table>\n",
       "<p>6497 rows × 13 columns</p>\n",
       "</div>"
      ],
      "text/plain": [
       "       type  fixed acidity  volatile acidity  citric acid  residual sugar  \\\n",
       "0     white            7.0             0.270         0.36            20.7   \n",
       "1     white            6.3             0.300         0.34             1.6   \n",
       "2     white            8.1             0.280         0.40             6.9   \n",
       "3     white            7.2             0.230         0.32             8.5   \n",
       "4     white            7.2             0.230         0.32             8.5   \n",
       "...     ...            ...               ...          ...             ...   \n",
       "6492    red            6.2             0.600         0.08             2.0   \n",
       "6493    red            5.9             0.550         0.10             2.2   \n",
       "6494    red            6.3             0.510         0.13             2.3   \n",
       "6495    red            5.9             0.645         0.12             2.0   \n",
       "6496    red            6.0             0.310         0.47             3.6   \n",
       "\n",
       "      chlorides  free sulfur dioxide  total sulfur dioxide  density    pH  \\\n",
       "0         0.045                 45.0                 170.0  1.00100  3.00   \n",
       "1         0.049                 14.0                 132.0  0.99400  3.30   \n",
       "2         0.050                 30.0                  97.0  0.99510  3.26   \n",
       "3         0.058                 47.0                 186.0  0.99560  3.19   \n",
       "4         0.058                 47.0                 186.0  0.99560  3.19   \n",
       "...         ...                  ...                   ...      ...   ...   \n",
       "6492      0.090                 32.0                  44.0  0.99490  3.45   \n",
       "6493      0.062                 39.0                  51.0  0.99512  3.52   \n",
       "6494      0.076                 29.0                  40.0  0.99574  3.42   \n",
       "6495      0.075                 32.0                  44.0  0.99547  3.57   \n",
       "6496      0.067                 18.0                  42.0  0.99549  3.39   \n",
       "\n",
       "      sulphates  alcohol  quality  \n",
       "0          0.45      8.8        0  \n",
       "1          0.49      9.5        0  \n",
       "2          0.44     10.1        0  \n",
       "3          0.40      9.9        0  \n",
       "4          0.40      9.9        0  \n",
       "...         ...      ...      ...  \n",
       "6492       0.58     10.5        0  \n",
       "6493        NaN     11.2        0  \n",
       "6494       0.75     11.0        0  \n",
       "6495       0.71     10.2        0  \n",
       "6496       0.66     11.0        0  \n",
       "\n",
       "[6497 rows x 13 columns]"
      ]
     },
     "execution_count": 3,
     "metadata": {},
     "output_type": "execute_result"
    }
   ],
   "source": [
    "df['quality'][df['quality'] < 7] = 0\n",
    "df['quality'][df['quality'] >= 7] = 1\n",
    "df"
   ]
  },
  {
   "cell_type": "markdown",
   "metadata": {},
   "source": [
    "## Deleting columns which contain nan values"
   ]
  },
  {
   "cell_type": "code",
   "execution_count": 4,
   "metadata": {},
   "outputs": [
    {
     "name": "stdout",
     "output_type": "stream",
     "text": [
      "type                     0\n",
      "fixed acidity           10\n",
      "volatile acidity         8\n",
      "citric acid              3\n",
      "residual sugar           2\n",
      "chlorides                2\n",
      "free sulfur dioxide      0\n",
      "total sulfur dioxide     0\n",
      "density                  0\n",
      "pH                       9\n",
      "sulphates                4\n",
      "alcohol                  0\n",
      "quality                  0\n",
      "dtype: int64\n"
     ]
    }
   ],
   "source": [
    "print(df.isna().sum())"
   ]
  },
  {
   "cell_type": "code",
   "execution_count": 5,
   "metadata": {},
   "outputs": [
    {
     "data": {
      "text/plain": [
       "Int64Index([98, 747], dtype='int64')"
      ]
     },
     "execution_count": 5,
     "metadata": {},
     "output_type": "execute_result"
    }
   ],
   "source": [
    "df['chlorides'][df['chlorides'].isna()].index"
   ]
  },
  {
   "cell_type": "code",
   "execution_count": 6,
   "metadata": {},
   "outputs": [],
   "source": [
    "df.drop(df['chlorides'][df['chlorides'].isna()].index, inplace = True, errors = 'ignore') \n",
    "df.drop(df['fixed acidity'][df['fixed acidity'].isna()].index, inplace = True, errors = 'ignore') \n",
    "df.drop(df['volatile acidity'][df['volatile acidity'].isna()].index, inplace = True, errors = 'ignore') \n",
    "df.drop(df['citric acid'][df['citric acid'].isna()].index, inplace = True, errors = 'ignore') \n",
    "df.drop(df['residual sugar'][df['residual sugar'].isna()].index, inplace = True, errors = 'ignore') \n",
    "df.drop(df['pH'][df['pH'].isna()].index, inplace = True, errors = 'ignore') \n",
    "df.drop(df['sulphates'][df['sulphates'].isna()].index, inplace = True, errors = 'ignore') "
   ]
  },
  {
   "cell_type": "code",
   "execution_count": 7,
   "metadata": {},
   "outputs": [
    {
     "name": "stdout",
     "output_type": "stream",
     "text": [
      "type                    0\n",
      "fixed acidity           0\n",
      "volatile acidity        0\n",
      "citric acid             0\n",
      "residual sugar          0\n",
      "chlorides               0\n",
      "free sulfur dioxide     0\n",
      "total sulfur dioxide    0\n",
      "density                 0\n",
      "pH                      0\n",
      "sulphates               0\n",
      "alcohol                 0\n",
      "quality                 0\n",
      "dtype: int64\n"
     ]
    }
   ],
   "source": [
    "print(df.isna().sum())"
   ]
  },
  {
   "cell_type": "markdown",
   "metadata": {},
   "source": [
    "## Min - Max scaler"
   ]
  },
  {
   "cell_type": "code",
   "execution_count": 8,
   "metadata": {},
   "outputs": [
    {
     "data": {
      "text/html": [
       "<div>\n",
       "<style scoped>\n",
       "    .dataframe tbody tr th:only-of-type {\n",
       "        vertical-align: middle;\n",
       "    }\n",
       "\n",
       "    .dataframe tbody tr th {\n",
       "        vertical-align: top;\n",
       "    }\n",
       "\n",
       "    .dataframe thead th {\n",
       "        text-align: right;\n",
       "    }\n",
       "</style>\n",
       "<table border=\"1\" class=\"dataframe\">\n",
       "  <thead>\n",
       "    <tr style=\"text-align: right;\">\n",
       "      <th></th>\n",
       "      <th>alcohol</th>\n",
       "      <th>chlorides</th>\n",
       "      <th>citric acid</th>\n",
       "      <th>density</th>\n",
       "      <th>fixed acidity</th>\n",
       "      <th>free sulfur dioxide</th>\n",
       "      <th>pH</th>\n",
       "      <th>residual sugar</th>\n",
       "      <th>sulphates</th>\n",
       "      <th>total sulfur dioxide</th>\n",
       "      <th>type</th>\n",
       "      <th>volatile acidity</th>\n",
       "    </tr>\n",
       "  </thead>\n",
       "  <tbody>\n",
       "    <tr>\n",
       "      <th>0</th>\n",
       "      <td>0.115942</td>\n",
       "      <td>0.059801</td>\n",
       "      <td>0.216867</td>\n",
       "      <td>0.267785</td>\n",
       "      <td>0.264463</td>\n",
       "      <td>0.152778</td>\n",
       "      <td>0.217054</td>\n",
       "      <td>0.308282</td>\n",
       "      <td>0.129213</td>\n",
       "      <td>0.377880</td>\n",
       "      <td>white</td>\n",
       "      <td>0.126667</td>\n",
       "    </tr>\n",
       "    <tr>\n",
       "      <th>1</th>\n",
       "      <td>0.217391</td>\n",
       "      <td>0.066445</td>\n",
       "      <td>0.204819</td>\n",
       "      <td>0.132832</td>\n",
       "      <td>0.206612</td>\n",
       "      <td>0.045139</td>\n",
       "      <td>0.449612</td>\n",
       "      <td>0.015337</td>\n",
       "      <td>0.151685</td>\n",
       "      <td>0.290323</td>\n",
       "      <td>white</td>\n",
       "      <td>0.146667</td>\n",
       "    </tr>\n",
       "    <tr>\n",
       "      <th>2</th>\n",
       "      <td>0.304348</td>\n",
       "      <td>0.068106</td>\n",
       "      <td>0.240964</td>\n",
       "      <td>0.154039</td>\n",
       "      <td>0.355372</td>\n",
       "      <td>0.100694</td>\n",
       "      <td>0.418605</td>\n",
       "      <td>0.096626</td>\n",
       "      <td>0.123596</td>\n",
       "      <td>0.209677</td>\n",
       "      <td>white</td>\n",
       "      <td>0.133333</td>\n",
       "    </tr>\n",
       "    <tr>\n",
       "      <th>3</th>\n",
       "      <td>0.275362</td>\n",
       "      <td>0.081395</td>\n",
       "      <td>0.192771</td>\n",
       "      <td>0.163678</td>\n",
       "      <td>0.280992</td>\n",
       "      <td>0.159722</td>\n",
       "      <td>0.364341</td>\n",
       "      <td>0.121166</td>\n",
       "      <td>0.101124</td>\n",
       "      <td>0.414747</td>\n",
       "      <td>white</td>\n",
       "      <td>0.100000</td>\n",
       "    </tr>\n",
       "    <tr>\n",
       "      <th>4</th>\n",
       "      <td>0.275362</td>\n",
       "      <td>0.081395</td>\n",
       "      <td>0.192771</td>\n",
       "      <td>0.163678</td>\n",
       "      <td>0.280992</td>\n",
       "      <td>0.159722</td>\n",
       "      <td>0.364341</td>\n",
       "      <td>0.121166</td>\n",
       "      <td>0.101124</td>\n",
       "      <td>0.414747</td>\n",
       "      <td>white</td>\n",
       "      <td>0.100000</td>\n",
       "    </tr>\n",
       "    <tr>\n",
       "      <th>...</th>\n",
       "      <td>...</td>\n",
       "      <td>...</td>\n",
       "      <td>...</td>\n",
       "      <td>...</td>\n",
       "      <td>...</td>\n",
       "      <td>...</td>\n",
       "      <td>...</td>\n",
       "      <td>...</td>\n",
       "      <td>...</td>\n",
       "      <td>...</td>\n",
       "      <td>...</td>\n",
       "      <td>...</td>\n",
       "    </tr>\n",
       "    <tr>\n",
       "      <th>6491</th>\n",
       "      <td>0.217391</td>\n",
       "      <td>0.098007</td>\n",
       "      <td>0.048193</td>\n",
       "      <td>0.181222</td>\n",
       "      <td>0.247934</td>\n",
       "      <td>0.093750</td>\n",
       "      <td>0.542636</td>\n",
       "      <td>0.019939</td>\n",
       "      <td>0.337079</td>\n",
       "      <td>0.073733</td>\n",
       "      <td>red</td>\n",
       "      <td>0.360000</td>\n",
       "    </tr>\n",
       "    <tr>\n",
       "      <th>6492</th>\n",
       "      <td>0.362319</td>\n",
       "      <td>0.134551</td>\n",
       "      <td>0.048193</td>\n",
       "      <td>0.150183</td>\n",
       "      <td>0.198347</td>\n",
       "      <td>0.107639</td>\n",
       "      <td>0.565891</td>\n",
       "      <td>0.021472</td>\n",
       "      <td>0.202247</td>\n",
       "      <td>0.087558</td>\n",
       "      <td>red</td>\n",
       "      <td>0.346667</td>\n",
       "    </tr>\n",
       "    <tr>\n",
       "      <th>6494</th>\n",
       "      <td>0.434783</td>\n",
       "      <td>0.111296</td>\n",
       "      <td>0.078313</td>\n",
       "      <td>0.166377</td>\n",
       "      <td>0.206612</td>\n",
       "      <td>0.097222</td>\n",
       "      <td>0.542636</td>\n",
       "      <td>0.026074</td>\n",
       "      <td>0.297753</td>\n",
       "      <td>0.078341</td>\n",
       "      <td>red</td>\n",
       "      <td>0.286667</td>\n",
       "    </tr>\n",
       "    <tr>\n",
       "      <th>6495</th>\n",
       "      <td>0.318841</td>\n",
       "      <td>0.109635</td>\n",
       "      <td>0.072289</td>\n",
       "      <td>0.161172</td>\n",
       "      <td>0.173554</td>\n",
       "      <td>0.107639</td>\n",
       "      <td>0.658915</td>\n",
       "      <td>0.021472</td>\n",
       "      <td>0.275281</td>\n",
       "      <td>0.087558</td>\n",
       "      <td>red</td>\n",
       "      <td>0.376667</td>\n",
       "    </tr>\n",
       "    <tr>\n",
       "      <th>6496</th>\n",
       "      <td>0.434783</td>\n",
       "      <td>0.096346</td>\n",
       "      <td>0.283133</td>\n",
       "      <td>0.161558</td>\n",
       "      <td>0.181818</td>\n",
       "      <td>0.059028</td>\n",
       "      <td>0.519380</td>\n",
       "      <td>0.046012</td>\n",
       "      <td>0.247191</td>\n",
       "      <td>0.082949</td>\n",
       "      <td>red</td>\n",
       "      <td>0.153333</td>\n",
       "    </tr>\n",
       "  </tbody>\n",
       "</table>\n",
       "<p>6463 rows × 12 columns</p>\n",
       "</div>"
      ],
      "text/plain": [
       "       alcohol  chlorides  citric acid   density  fixed acidity  \\\n",
       "0     0.115942   0.059801     0.216867  0.267785       0.264463   \n",
       "1     0.217391   0.066445     0.204819  0.132832       0.206612   \n",
       "2     0.304348   0.068106     0.240964  0.154039       0.355372   \n",
       "3     0.275362   0.081395     0.192771  0.163678       0.280992   \n",
       "4     0.275362   0.081395     0.192771  0.163678       0.280992   \n",
       "...        ...        ...          ...       ...            ...   \n",
       "6491  0.217391   0.098007     0.048193  0.181222       0.247934   \n",
       "6492  0.362319   0.134551     0.048193  0.150183       0.198347   \n",
       "6494  0.434783   0.111296     0.078313  0.166377       0.206612   \n",
       "6495  0.318841   0.109635     0.072289  0.161172       0.173554   \n",
       "6496  0.434783   0.096346     0.283133  0.161558       0.181818   \n",
       "\n",
       "      free sulfur dioxide        pH  residual sugar  sulphates  \\\n",
       "0                0.152778  0.217054        0.308282   0.129213   \n",
       "1                0.045139  0.449612        0.015337   0.151685   \n",
       "2                0.100694  0.418605        0.096626   0.123596   \n",
       "3                0.159722  0.364341        0.121166   0.101124   \n",
       "4                0.159722  0.364341        0.121166   0.101124   \n",
       "...                   ...       ...             ...        ...   \n",
       "6491             0.093750  0.542636        0.019939   0.337079   \n",
       "6492             0.107639  0.565891        0.021472   0.202247   \n",
       "6494             0.097222  0.542636        0.026074   0.297753   \n",
       "6495             0.107639  0.658915        0.021472   0.275281   \n",
       "6496             0.059028  0.519380        0.046012   0.247191   \n",
       "\n",
       "      total sulfur dioxide   type  volatile acidity  \n",
       "0                 0.377880  white          0.126667  \n",
       "1                 0.290323  white          0.146667  \n",
       "2                 0.209677  white          0.133333  \n",
       "3                 0.414747  white          0.100000  \n",
       "4                 0.414747  white          0.100000  \n",
       "...                    ...    ...               ...  \n",
       "6491              0.073733    red          0.360000  \n",
       "6492              0.087558    red          0.346667  \n",
       "6494              0.078341    red          0.286667  \n",
       "6495              0.087558    red          0.376667  \n",
       "6496              0.082949    red          0.153333  \n",
       "\n",
       "[6463 rows x 12 columns]"
      ]
     },
     "execution_count": 8,
     "metadata": {},
     "output_type": "execute_result"
    }
   ],
   "source": [
    "from sklearn.preprocessing import MinMaxScaler\n",
    "y = df[\"quality\"]\n",
    "df = df[df.columns.difference([\"quality\"])]\n",
    "scaler = MinMaxScaler()\n",
    "scaler.fit(df[df.columns.difference(['type'])])\n",
    "df[df.columns.difference(['type'])] = scaler.transform(df[df.columns.difference(['type'])])\n",
    "df"
   ]
  },
  {
   "cell_type": "markdown",
   "metadata": {},
   "source": [
    "# Train - Validation - Test splitting"
   ]
  },
  {
   "cell_type": "code",
   "execution_count": 9,
   "metadata": {},
   "outputs": [
    {
     "data": {
      "text/html": [
       "<div>\n",
       "<style scoped>\n",
       "    .dataframe tbody tr th:only-of-type {\n",
       "        vertical-align: middle;\n",
       "    }\n",
       "\n",
       "    .dataframe tbody tr th {\n",
       "        vertical-align: top;\n",
       "    }\n",
       "\n",
       "    .dataframe thead th {\n",
       "        text-align: right;\n",
       "    }\n",
       "</style>\n",
       "<table border=\"1\" class=\"dataframe\">\n",
       "  <thead>\n",
       "    <tr style=\"text-align: right;\">\n",
       "      <th></th>\n",
       "      <th>alcohol</th>\n",
       "      <th>chlorides</th>\n",
       "      <th>citric acid</th>\n",
       "      <th>density</th>\n",
       "      <th>fixed acidity</th>\n",
       "      <th>free sulfur dioxide</th>\n",
       "      <th>pH</th>\n",
       "      <th>residual sugar</th>\n",
       "      <th>sulphates</th>\n",
       "      <th>total sulfur dioxide</th>\n",
       "      <th>type</th>\n",
       "      <th>volatile acidity</th>\n",
       "    </tr>\n",
       "  </thead>\n",
       "  <tbody>\n",
       "    <tr>\n",
       "      <th>420</th>\n",
       "      <td>0.681159</td>\n",
       "      <td>0.034884</td>\n",
       "      <td>0.186747</td>\n",
       "      <td>0.051860</td>\n",
       "      <td>0.264463</td>\n",
       "      <td>0.138889</td>\n",
       "      <td>0.341085</td>\n",
       "      <td>0.032209</td>\n",
       "      <td>0.084270</td>\n",
       "      <td>0.299539</td>\n",
       "      <td>white</td>\n",
       "      <td>0.093333</td>\n",
       "    </tr>\n",
       "    <tr>\n",
       "      <th>3327</th>\n",
       "      <td>0.347826</td>\n",
       "      <td>0.044850</td>\n",
       "      <td>0.216867</td>\n",
       "      <td>0.094660</td>\n",
       "      <td>0.165289</td>\n",
       "      <td>0.034722</td>\n",
       "      <td>0.550388</td>\n",
       "      <td>0.010736</td>\n",
       "      <td>0.258427</td>\n",
       "      <td>0.147465</td>\n",
       "      <td>white</td>\n",
       "      <td>0.060000</td>\n",
       "    </tr>\n",
       "    <tr>\n",
       "      <th>4654</th>\n",
       "      <td>0.429952</td>\n",
       "      <td>0.064784</td>\n",
       "      <td>0.246988</td>\n",
       "      <td>0.127048</td>\n",
       "      <td>0.181818</td>\n",
       "      <td>0.187500</td>\n",
       "      <td>0.286822</td>\n",
       "      <td>0.156442</td>\n",
       "      <td>0.207865</td>\n",
       "      <td>0.329493</td>\n",
       "      <td>white</td>\n",
       "      <td>0.140000</td>\n",
       "    </tr>\n",
       "    <tr>\n",
       "      <th>3663</th>\n",
       "      <td>0.637681</td>\n",
       "      <td>0.041528</td>\n",
       "      <td>0.186747</td>\n",
       "      <td>0.044920</td>\n",
       "      <td>0.223140</td>\n",
       "      <td>0.201389</td>\n",
       "      <td>0.341085</td>\n",
       "      <td>0.010736</td>\n",
       "      <td>0.179775</td>\n",
       "      <td>0.320276</td>\n",
       "      <td>white</td>\n",
       "      <td>0.120000</td>\n",
       "    </tr>\n",
       "    <tr>\n",
       "      <th>4958</th>\n",
       "      <td>0.173913</td>\n",
       "      <td>0.116279</td>\n",
       "      <td>0.240964</td>\n",
       "      <td>0.209948</td>\n",
       "      <td>0.413223</td>\n",
       "      <td>0.062500</td>\n",
       "      <td>0.558140</td>\n",
       "      <td>0.024540</td>\n",
       "      <td>0.235955</td>\n",
       "      <td>0.105991</td>\n",
       "      <td>red</td>\n",
       "      <td>0.213333</td>\n",
       "    </tr>\n",
       "    <tr>\n",
       "      <th>...</th>\n",
       "      <td>...</td>\n",
       "      <td>...</td>\n",
       "      <td>...</td>\n",
       "      <td>...</td>\n",
       "      <td>...</td>\n",
       "      <td>...</td>\n",
       "      <td>...</td>\n",
       "      <td>...</td>\n",
       "      <td>...</td>\n",
       "      <td>...</td>\n",
       "      <td>...</td>\n",
       "      <td>...</td>\n",
       "    </tr>\n",
       "    <tr>\n",
       "      <th>2239</th>\n",
       "      <td>0.217391</td>\n",
       "      <td>0.064784</td>\n",
       "      <td>0.253012</td>\n",
       "      <td>0.198381</td>\n",
       "      <td>0.256198</td>\n",
       "      <td>0.031250</td>\n",
       "      <td>0.465116</td>\n",
       "      <td>0.121166</td>\n",
       "      <td>0.134831</td>\n",
       "      <td>0.324885</td>\n",
       "      <td>white</td>\n",
       "      <td>0.240000</td>\n",
       "    </tr>\n",
       "    <tr>\n",
       "      <th>803</th>\n",
       "      <td>0.260870</td>\n",
       "      <td>0.049834</td>\n",
       "      <td>0.186747</td>\n",
       "      <td>0.208984</td>\n",
       "      <td>0.231405</td>\n",
       "      <td>0.156250</td>\n",
       "      <td>0.534884</td>\n",
       "      <td>0.165644</td>\n",
       "      <td>0.123596</td>\n",
       "      <td>0.366359</td>\n",
       "      <td>white</td>\n",
       "      <td>0.086667</td>\n",
       "    </tr>\n",
       "    <tr>\n",
       "      <th>2205</th>\n",
       "      <td>0.318841</td>\n",
       "      <td>0.078073</td>\n",
       "      <td>0.204819</td>\n",
       "      <td>0.198381</td>\n",
       "      <td>0.322314</td>\n",
       "      <td>0.118056</td>\n",
       "      <td>0.418605</td>\n",
       "      <td>0.144172</td>\n",
       "      <td>0.213483</td>\n",
       "      <td>0.396313</td>\n",
       "      <td>white</td>\n",
       "      <td>0.206667</td>\n",
       "    </tr>\n",
       "    <tr>\n",
       "      <th>848</th>\n",
       "      <td>0.115942</td>\n",
       "      <td>0.058140</td>\n",
       "      <td>0.192771</td>\n",
       "      <td>0.243686</td>\n",
       "      <td>0.404959</td>\n",
       "      <td>0.118056</td>\n",
       "      <td>0.310078</td>\n",
       "      <td>0.196319</td>\n",
       "      <td>0.140449</td>\n",
       "      <td>0.375576</td>\n",
       "      <td>white</td>\n",
       "      <td>0.100000</td>\n",
       "    </tr>\n",
       "    <tr>\n",
       "      <th>5360</th>\n",
       "      <td>0.550725</td>\n",
       "      <td>0.126246</td>\n",
       "      <td>0.409639</td>\n",
       "      <td>0.190669</td>\n",
       "      <td>0.595041</td>\n",
       "      <td>0.031250</td>\n",
       "      <td>0.356589</td>\n",
       "      <td>0.029908</td>\n",
       "      <td>0.219101</td>\n",
       "      <td>0.043779</td>\n",
       "      <td>red</td>\n",
       "      <td>0.120000</td>\n",
       "    </tr>\n",
       "  </tbody>\n",
       "</table>\n",
       "<p>1164 rows × 12 columns</p>\n",
       "</div>"
      ],
      "text/plain": [
       "       alcohol  chlorides  citric acid   density  fixed acidity  \\\n",
       "420   0.681159   0.034884     0.186747  0.051860       0.264463   \n",
       "3327  0.347826   0.044850     0.216867  0.094660       0.165289   \n",
       "4654  0.429952   0.064784     0.246988  0.127048       0.181818   \n",
       "3663  0.637681   0.041528     0.186747  0.044920       0.223140   \n",
       "4958  0.173913   0.116279     0.240964  0.209948       0.413223   \n",
       "...        ...        ...          ...       ...            ...   \n",
       "2239  0.217391   0.064784     0.253012  0.198381       0.256198   \n",
       "803   0.260870   0.049834     0.186747  0.208984       0.231405   \n",
       "2205  0.318841   0.078073     0.204819  0.198381       0.322314   \n",
       "848   0.115942   0.058140     0.192771  0.243686       0.404959   \n",
       "5360  0.550725   0.126246     0.409639  0.190669       0.595041   \n",
       "\n",
       "      free sulfur dioxide        pH  residual sugar  sulphates  \\\n",
       "420              0.138889  0.341085        0.032209   0.084270   \n",
       "3327             0.034722  0.550388        0.010736   0.258427   \n",
       "4654             0.187500  0.286822        0.156442   0.207865   \n",
       "3663             0.201389  0.341085        0.010736   0.179775   \n",
       "4958             0.062500  0.558140        0.024540   0.235955   \n",
       "...                   ...       ...             ...        ...   \n",
       "2239             0.031250  0.465116        0.121166   0.134831   \n",
       "803              0.156250  0.534884        0.165644   0.123596   \n",
       "2205             0.118056  0.418605        0.144172   0.213483   \n",
       "848              0.118056  0.310078        0.196319   0.140449   \n",
       "5360             0.031250  0.356589        0.029908   0.219101   \n",
       "\n",
       "      total sulfur dioxide   type  volatile acidity  \n",
       "420               0.299539  white          0.093333  \n",
       "3327              0.147465  white          0.060000  \n",
       "4654              0.329493  white          0.140000  \n",
       "3663              0.320276  white          0.120000  \n",
       "4958              0.105991    red          0.213333  \n",
       "...                    ...    ...               ...  \n",
       "2239              0.324885  white          0.240000  \n",
       "803               0.366359  white          0.086667  \n",
       "2205              0.396313  white          0.206667  \n",
       "848               0.375576  white          0.100000  \n",
       "5360              0.043779    red          0.120000  \n",
       "\n",
       "[1164 rows x 12 columns]"
      ]
     },
     "execution_count": 9,
     "metadata": {},
     "output_type": "execute_result"
    }
   ],
   "source": [
    "from sklearn.model_selection import train_test_split\n",
    "x_Train, xtest, y_Train, ytest = train_test_split(df, y, test_size = 0.1) \n",
    "x_train , xvalidation, y_train, yvalidation = train_test_split(x_Train, y_Train, test_size = 0.2) \n",
    "xvalidation"
   ]
  },
  {
   "cell_type": "code",
   "execution_count": 10,
   "metadata": {},
   "outputs": [
    {
     "name": "stdout",
     "output_type": "stream",
     "text": [
      "[0 1]\n"
     ]
    }
   ],
   "source": [
    "classNames = y_train.unique()\n",
    "classNames = np.sort(classNames)\n",
    "print(classNames)"
   ]
  },
  {
   "cell_type": "markdown",
   "metadata": {},
   "source": [
    "# Imbalanced or balanced dataset"
   ]
  },
  {
   "cell_type": "code",
   "execution_count": 12,
   "metadata": {},
   "outputs": [
    {
     "data": {
      "image/png": "[encoded data removed]",
      "text/plain": [
       "<Figure size 432x288 with 1 Axes>"
      ]
     },
     "metadata": {
      "needs_background": "light"
     },
     "output_type": "display_data"
    }
   ],
   "source": [
    "from matplotlib import pyplot as plt\n",
    "counts = y_train.value_counts()\n",
    "values = y_train.value_counts().index\n",
    "plt.bar(values, counts)\n",
    "plt.xlabel(\"Class Names\")\n",
    "plt.ylabel(\"Counts\");"
   ]
  },
  {
   "cell_type": "markdown",
   "metadata": {},
   "source": [
    "##### Our dataset is imbalanced . Let's apply one of resampling techniques."
   ]
  },
  {
   "cell_type": "code",
   "execution_count": 13,
   "metadata": {},
   "outputs": [],
   "source": [
    "from imblearn.over_sampling import RandomOverSampler\n",
    "ros = RandomOverSampler()\n",
    "xtrain, ytrain = ros.fit_sample(x_train, y_train)"
   ]
  },
  {
   "cell_type": "code",
   "execution_count": 14,
   "metadata": {},
   "outputs": [
    {
     "data": {
      "image/png": "[encoded data removed]",
      "text/plain": [
       "<Figure size 432x288 with 1 Axes>"
      ]
     },
     "metadata": {
      "needs_background": "light"
     },
     "output_type": "display_data"
    }
   ],
   "source": [
    "counts = ytrain.value_counts()\n",
    "values = ytrain.value_counts().index\n",
    "plt.bar(values, counts)\n",
    "plt.xlabel(\"Class Names\")\n",
    "plt.ylabel(\"Counts\");"
   ]
  },
  {
   "cell_type": "markdown",
   "metadata": {},
   "source": [
    "# Feature selection\n",
    "## The Columns Correlation"
   ]
  },
  {
   "cell_type": "code",
   "execution_count": 15,
   "metadata": {},
   "outputs": [
    {
     "data": {
      "image/png": "[encoded data removed]",
      "text/plain": [
       "<Figure size 864x720 with 2 Axes>"
      ]
     },
     "metadata": {
      "needs_background": "light"
     },
     "output_type": "display_data"
    }
   ],
   "source": [
    "import seaborn as sns\n",
    "plt.figure(figsize=(12,10))\n",
    "cor = xtrain.corr()\n",
    "sns.heatmap(cor, annot=True, cmap=plt.cm.CMRmap_r)\n",
    "plt.show()"
   ]
  },
  {
   "cell_type": "markdown",
   "metadata": {},
   "source": [
    "## The highest correlated features"
   ]
  },
  {
   "cell_type": "code",
   "execution_count": 16,
   "metadata": {},
   "outputs": [],
   "source": [
    "# This function will find correlated features with given threshold and return one of them \n",
    "def correlation(data, threshold = 0.85):\n",
    "    corr = data.corr()\n",
    "    cor_columns = set()\n",
    "    for i in range(len(corr.columns)):\n",
    "        for j in range(i):\n",
    "            if(abs(corr.iloc[i,j]) > threshold):\n",
    "                cor_columns.add(corr.columns[i]) \n",
    "    \n",
    "    return cor_columns"
   ]
  },
  {
   "cell_type": "code",
   "execution_count": 17,
   "metadata": {},
   "outputs": [
    {
     "data": {
      "text/plain": [
       "{'density', 'total sulfur dioxide'}"
      ]
     },
     "execution_count": 17,
     "metadata": {},
     "output_type": "execute_result"
    }
   ],
   "source": [
    "# correlated features with threshold = 0.7\n",
    "features = correlation(xtrain, 0.7) \n",
    "features"
   ]
  },
  {
   "cell_type": "code",
   "execution_count": 18,
   "metadata": {},
   "outputs": [
    {
     "data": {
      "text/html": [
       "<div>\n",
       "<style scoped>\n",
       "    .dataframe tbody tr th:only-of-type {\n",
       "        vertical-align: middle;\n",
       "    }\n",
       "\n",
       "    .dataframe tbody tr th {\n",
       "        vertical-align: top;\n",
       "    }\n",
       "\n",
       "    .dataframe thead th {\n",
       "        text-align: right;\n",
       "    }\n",
       "</style>\n",
       "<table border=\"1\" class=\"dataframe\">\n",
       "  <thead>\n",
       "    <tr style=\"text-align: right;\">\n",
       "      <th></th>\n",
       "      <th>alcohol</th>\n",
       "      <th>chlorides</th>\n",
       "      <th>citric acid</th>\n",
       "      <th>fixed acidity</th>\n",
       "      <th>free sulfur dioxide</th>\n",
       "      <th>pH</th>\n",
       "      <th>residual sugar</th>\n",
       "      <th>sulphates</th>\n",
       "      <th>type</th>\n",
       "      <th>volatile acidity</th>\n",
       "    </tr>\n",
       "  </thead>\n",
       "  <tbody>\n",
       "    <tr>\n",
       "      <th>420</th>\n",
       "      <td>0.681159</td>\n",
       "      <td>0.034884</td>\n",
       "      <td>0.186747</td>\n",
       "      <td>0.264463</td>\n",
       "      <td>0.138889</td>\n",
       "      <td>0.341085</td>\n",
       "      <td>0.032209</td>\n",
       "      <td>0.084270</td>\n",
       "      <td>white</td>\n",
       "      <td>0.093333</td>\n",
       "    </tr>\n",
       "    <tr>\n",
       "      <th>3327</th>\n",
       "      <td>0.347826</td>\n",
       "      <td>0.044850</td>\n",
       "      <td>0.216867</td>\n",
       "      <td>0.165289</td>\n",
       "      <td>0.034722</td>\n",
       "      <td>0.550388</td>\n",
       "      <td>0.010736</td>\n",
       "      <td>0.258427</td>\n",
       "      <td>white</td>\n",
       "      <td>0.060000</td>\n",
       "    </tr>\n",
       "    <tr>\n",
       "      <th>4654</th>\n",
       "      <td>0.429952</td>\n",
       "      <td>0.064784</td>\n",
       "      <td>0.246988</td>\n",
       "      <td>0.181818</td>\n",
       "      <td>0.187500</td>\n",
       "      <td>0.286822</td>\n",
       "      <td>0.156442</td>\n",
       "      <td>0.207865</td>\n",
       "      <td>white</td>\n",
       "      <td>0.140000</td>\n",
       "    </tr>\n",
       "    <tr>\n",
       "      <th>3663</th>\n",
       "      <td>0.637681</td>\n",
       "      <td>0.041528</td>\n",
       "      <td>0.186747</td>\n",
       "      <td>0.223140</td>\n",
       "      <td>0.201389</td>\n",
       "      <td>0.341085</td>\n",
       "      <td>0.010736</td>\n",
       "      <td>0.179775</td>\n",
       "      <td>white</td>\n",
       "      <td>0.120000</td>\n",
       "    </tr>\n",
       "    <tr>\n",
       "      <th>4958</th>\n",
       "      <td>0.173913</td>\n",
       "      <td>0.116279</td>\n",
       "      <td>0.240964</td>\n",
       "      <td>0.413223</td>\n",
       "      <td>0.062500</td>\n",
       "      <td>0.558140</td>\n",
       "      <td>0.024540</td>\n",
       "      <td>0.235955</td>\n",
       "      <td>red</td>\n",
       "      <td>0.213333</td>\n",
       "    </tr>\n",
       "    <tr>\n",
       "      <th>...</th>\n",
       "      <td>...</td>\n",
       "      <td>...</td>\n",
       "      <td>...</td>\n",
       "      <td>...</td>\n",
       "      <td>...</td>\n",
       "      <td>...</td>\n",
       "      <td>...</td>\n",
       "      <td>...</td>\n",
       "      <td>...</td>\n",
       "      <td>...</td>\n",
       "    </tr>\n",
       "    <tr>\n",
       "      <th>2239</th>\n",
       "      <td>0.217391</td>\n",
       "      <td>0.064784</td>\n",
       "      <td>0.253012</td>\n",
       "      <td>0.256198</td>\n",
       "      <td>0.031250</td>\n",
       "      <td>0.465116</td>\n",
       "      <td>0.121166</td>\n",
       "      <td>0.134831</td>\n",
       "      <td>white</td>\n",
       "      <td>0.240000</td>\n",
       "    </tr>\n",
       "    <tr>\n",
       "      <th>803</th>\n",
       "      <td>0.260870</td>\n",
       "      <td>0.049834</td>\n",
       "      <td>0.186747</td>\n",
       "      <td>0.231405</td>\n",
       "      <td>0.156250</td>\n",
       "      <td>0.534884</td>\n",
       "      <td>0.165644</td>\n",
       "      <td>0.123596</td>\n",
       "      <td>white</td>\n",
       "      <td>0.086667</td>\n",
       "    </tr>\n",
       "    <tr>\n",
       "      <th>2205</th>\n",
       "      <td>0.318841</td>\n",
       "      <td>0.078073</td>\n",
       "      <td>0.204819</td>\n",
       "      <td>0.322314</td>\n",
       "      <td>0.118056</td>\n",
       "      <td>0.418605</td>\n",
       "      <td>0.144172</td>\n",
       "      <td>0.213483</td>\n",
       "      <td>white</td>\n",
       "      <td>0.206667</td>\n",
       "    </tr>\n",
       "    <tr>\n",
       "      <th>848</th>\n",
       "      <td>0.115942</td>\n",
       "      <td>0.058140</td>\n",
       "      <td>0.192771</td>\n",
       "      <td>0.404959</td>\n",
       "      <td>0.118056</td>\n",
       "      <td>0.310078</td>\n",
       "      <td>0.196319</td>\n",
       "      <td>0.140449</td>\n",
       "      <td>white</td>\n",
       "      <td>0.100000</td>\n",
       "    </tr>\n",
       "    <tr>\n",
       "      <th>5360</th>\n",
       "      <td>0.550725</td>\n",
       "      <td>0.126246</td>\n",
       "      <td>0.409639</td>\n",
       "      <td>0.595041</td>\n",
       "      <td>0.031250</td>\n",
       "      <td>0.356589</td>\n",
       "      <td>0.029908</td>\n",
       "      <td>0.219101</td>\n",
       "      <td>red</td>\n",
       "      <td>0.120000</td>\n",
       "    </tr>\n",
       "  </tbody>\n",
       "</table>\n",
       "<p>1164 rows × 10 columns</p>\n",
       "</div>"
      ],
      "text/plain": [
       "       alcohol  chlorides  citric acid  fixed acidity  free sulfur dioxide  \\\n",
       "420   0.681159   0.034884     0.186747       0.264463             0.138889   \n",
       "3327  0.347826   0.044850     0.216867       0.165289             0.034722   \n",
       "4654  0.429952   0.064784     0.246988       0.181818             0.187500   \n",
       "3663  0.637681   0.041528     0.186747       0.223140             0.201389   \n",
       "4958  0.173913   0.116279     0.240964       0.413223             0.062500   \n",
       "...        ...        ...          ...            ...                  ...   \n",
       "2239  0.217391   0.064784     0.253012       0.256198             0.031250   \n",
       "803   0.260870   0.049834     0.186747       0.231405             0.156250   \n",
       "2205  0.318841   0.078073     0.204819       0.322314             0.118056   \n",
       "848   0.115942   0.058140     0.192771       0.404959             0.118056   \n",
       "5360  0.550725   0.126246     0.409639       0.595041             0.031250   \n",
       "\n",
       "            pH  residual sugar  sulphates   type  volatile acidity  \n",
       "420   0.341085        0.032209   0.084270  white          0.093333  \n",
       "3327  0.550388        0.010736   0.258427  white          0.060000  \n",
       "4654  0.286822        0.156442   0.207865  white          0.140000  \n",
       "3663  0.341085        0.010736   0.179775  white          0.120000  \n",
       "4958  0.558140        0.024540   0.235955    red          0.213333  \n",
       "...        ...             ...        ...    ...               ...  \n",
       "2239  0.465116        0.121166   0.134831  white          0.240000  \n",
       "803   0.534884        0.165644   0.123596  white          0.086667  \n",
       "2205  0.418605        0.144172   0.213483  white          0.206667  \n",
       "848   0.310078        0.196319   0.140449  white          0.100000  \n",
       "5360  0.356589        0.029908   0.219101    red          0.120000  \n",
       "\n",
       "[1164 rows x 10 columns]"
      ]
     },
     "execution_count": 18,
     "metadata": {},
     "output_type": "execute_result"
    }
   ],
   "source": [
    "# Then we will drop correlated features \n",
    "xvalidation.drop(features, axis = 1, inplace = True)\n",
    "xtest.drop(features, axis = 1, inplace = True)\n",
    "xtrain.drop(features, axis = 1, inplace = True)\n",
    "xvalidation"
   ]
  },
  {
   "cell_type": "markdown",
   "metadata": {},
   "source": [
    "## Finding Outliers with Z- score"
   ]
  },
  {
   "cell_type": "code",
   "execution_count": 19,
   "metadata": {},
   "outputs": [
    {
     "data": {
      "text/plain": [
       "7522"
      ]
     },
     "execution_count": 19,
     "metadata": {},
     "output_type": "execute_result"
    }
   ],
   "source": [
    "len(xtrain)"
   ]
  },
  {
   "cell_type": "code",
   "execution_count": 20,
   "metadata": {},
   "outputs": [],
   "source": [
    "from scipy import stats\n",
    "z = np.abs(stats.zscore(xtrain[xtrain.columns.difference([\"type\"])]))\n",
    "xtrain = xtrain[(z < 3).all(axis=1)]\n",
    "ytrain = ytrain[(z < 3).all(axis=1)]"
   ]
  },
  {
   "cell_type": "code",
   "execution_count": 21,
   "metadata": {},
   "outputs": [
    {
     "data": {
      "text/plain": [
       "6909"
      ]
     },
     "execution_count": 21,
     "metadata": {},
     "output_type": "execute_result"
    }
   ],
   "source": [
    "#outliers have been removed\n",
    "len(xtrain)"
   ]
  },
  {
   "cell_type": "markdown",
   "metadata": {},
   "source": [
    "## One Hot Encoding"
   ]
  },
  {
   "cell_type": "code",
   "execution_count": 22,
   "metadata": {},
   "outputs": [
    {
     "name": "stdout",
     "output_type": "stream",
     "text": [
      "['alcohol' 'chlorides' 'citric acid' 'fixed acidity' 'free sulfur dioxide'\n",
      " 'pH' 'residual sugar' 'sulphates' 'volatile acidity' 'type_red'\n",
      " 'type_white']\n"
     ]
    }
   ],
   "source": [
    "xtrain = pd.get_dummies(xtrain)\n",
    "xvalidation = pd.get_dummies(xvalidation)\n",
    "xtest = pd.get_dummies(xtest)\n",
    "features = np.array(xtrain.columns)\n",
    "print(features) "
   ]
  },
  {
   "cell_type": "markdown",
   "metadata": {},
   "source": [
    "### Model training"
   ]
  },
  {
   "cell_type": "code",
   "execution_count": 23,
   "metadata": {},
   "outputs": [],
   "source": [
    "# Model Training with no parameters or with one paramater\n",
    "def Training(x, y, test, model_selection, params = None):\n",
    "    if(params):\n",
    "        model = model_selection(**params)\n",
    "    else:\n",
    "        model = model_selection()\n",
    "    model.fit(x, y)\n",
    "    prediction = model.predict(test)\n",
    "    return prediction"
   ]
  },
  {
   "cell_type": "markdown",
   "metadata": {},
   "source": [
    "### Cross Validation"
   ]
  },
  {
   "cell_type": "code",
   "execution_count": 24,
   "metadata": {},
   "outputs": [],
   "source": [
    "# Cross Validation with parameters or with one paramater\n",
    "def cv(data, y, model, cv = 5,params = None):\n",
    "    prediction = []\n",
    "    kf = KFold(n_splits = cv)\n",
    "    for index_train ,index_test in kf.split(data):\n",
    "        x_train,x_test = data.iloc[index_train], data.iloc[index_test]\n",
    "        y_train = y.iloc[index_train]\n",
    "        prediction.extend(Training(x_train, y_train, x_test, model, params))\n",
    "    \n",
    "    return prediction\n",
    "    "
   ]
  },
  {
   "cell_type": "markdown",
   "metadata": {},
   "source": [
    "### Confusion Matrix and Accuracy"
   ]
  },
  {
   "cell_type": "code",
   "execution_count": 25,
   "metadata": {},
   "outputs": [],
   "source": [
    "def cfmatrix_and_accuracy(prediction, trainy, classnames):\n",
    "    cf_matrix= confusion_matrix(prediction,trainy)\n",
    "    disp = ConfusionMatrixDisplay(confusion_matrix=cf_matrix,display_labels=classnames)\n",
    "    disp.plot()\n",
    "    Accuracy = accuracy_score(trainy, prediction)\n",
    "    print(f\"    Accuracy = {Accuracy} \")\n",
    "    return Accuracy"
   ]
  },
  {
   "cell_type": "code",
   "execution_count": 26,
   "metadata": {},
   "outputs": [],
   "source": [
    "Accuracy = []"
   ]
  },
  {
   "cell_type": "markdown",
   "metadata": {},
   "source": [
    "# Decision Tree Classification"
   ]
  },
  {
   "cell_type": "code",
   "execution_count": 27,
   "metadata": {
    "scrolled": true
   },
   "outputs": [
    {
     "data": {
      "application/vnd.jupyter.widget-view+json": {
       "model_id": "0dab9e69101444199f99bb949b94c18c",
       "version_major": 2,
       "version_minor": 0
      },
      "text/plain": [
       "interactive(children=(IntSlider(value=16, description='maxdepth', max=30, min=5), Output()), _dom_classes=('wi…"
      ]
     },
     "metadata": {},
     "output_type": "display_data"
    }
   ],
   "source": [
    "from sklearn import tree\n",
    "def DT(maxdepth):\n",
    "    predictions = cv(xtrain, ytrain,tree.DecisionTreeClassifier,cv = 5,params = {'max_depth': maxdepth})\n",
    "    print(\"           Train \")\n",
    "    cfmatrix_and_accuracy(predictions, ytrain, classNames)\n",
    "    predictions = Training(xtrain, ytrain,xvalidation, tree.DecisionTreeClassifier,params = {'max_depth': maxdepth})\n",
    "    print(\"           Validation \")\n",
    "    cfmatrix_and_accuracy(predictions, yvalidation, classNames)\n",
    "interact(DT, maxdepth = widgets.IntSlider(min=5, max=30, step=1, value=16));\n"
   ]
  },
  {
   "cell_type": "markdown",
   "metadata": {},
   "source": [
    "### DTC Model Training with the best patameters"
   ]
  },
  {
   "cell_type": "code",
   "execution_count": 28,
   "metadata": {},
   "outputs": [
    {
     "data": {
      "text/plain": [
       "[0.8178694158075601]"
      ]
     },
     "execution_count": 28,
     "metadata": {},
     "output_type": "execute_result"
    }
   ],
   "source": [
    "dtc = tree.DecisionTreeClassifier(max_depth = 16 )\n",
    "dtc.fit(xtrain,ytrain)\n",
    "prediction = dtc.predict(xvalidation)\n",
    "Accuracy.append(accuracy_score(yvalidation, prediction))\n",
    "Accuracy"
   ]
  },
  {
   "cell_type": "markdown",
   "metadata": {},
   "source": [
    "# Decision Tree Regression"
   ]
  },
  {
   "cell_type": "code",
   "execution_count": 29,
   "metadata": {},
   "outputs": [
    {
     "data": {
      "application/vnd.jupyter.widget-view+json": {
       "model_id": "068bc1462c264551b438bb0b89389b44",
       "version_major": 2,
       "version_minor": 0
      },
      "text/plain": [
       "interactive(children=(IntSlider(value=20, description='maxdepth', max=30, min=5), Output()), _dom_classes=('wi…"
      ]
     },
     "metadata": {},
     "output_type": "display_data"
    }
   ],
   "source": [
    "def DT(maxdepth):\n",
    "    predictions = cv(xtrain, ytrain,tree.DecisionTreeRegressor,cv = 5,params = {'max_depth': maxdepth})\n",
    "    print(\"           Train \")\n",
    "    predictions = np.array(predictions)\n",
    "    predictions[predictions < 0.5] = 0\n",
    "    predictions[predictions >= 0.5] = 1\n",
    "    cfmatrix_and_accuracy(predictions, ytrain, classNames)\n",
    "    predictions = Training(xtrain, ytrain, xvalidation, tree.DecisionTreeRegressor,params = {'max_depth': maxdepth})\n",
    "    print(\"           Validation \")\n",
    "    predictions = np.array(predictions)\n",
    "    predictions[predictions < 0.5] = 0\n",
    "    predictions[predictions >= 0.5] = 1\n",
    "    cfmatrix_and_accuracy(predictions, yvalidation, classNames)\n",
    "    \n",
    "interact(DT, maxdepth = widgets.IntSlider(min=5, max=30, step=1, value=20));"
   ]
  },
  {
   "cell_type": "markdown",
   "metadata": {},
   "source": [
    "### DTR Model Training with the best parameters"
   ]
  },
  {
   "cell_type": "code",
   "execution_count": 30,
   "metadata": {},
   "outputs": [
    {
     "data": {
      "text/plain": [
       "[0.8178694158075601, 0.8359106529209622]"
      ]
     },
     "execution_count": 30,
     "metadata": {},
     "output_type": "execute_result"
    }
   ],
   "source": [
    "dtr = tree.DecisionTreeRegressor(max_depth = 20 )\n",
    "dtr.fit(xtrain,ytrain)\n",
    "prediction = dtr.predict(xvalidation)\n",
    "predictions = np.array(prediction)\n",
    "predictions[predictions < 0.5] = 0\n",
    "predictions[predictions >= 0.5] = 1\n",
    "Accuracy.append(accuracy_score(yvalidation, predictions))\n",
    "Accuracy"
   ]
  },
  {
   "cell_type": "markdown",
   "metadata": {},
   "source": [
    "# KNN Classification"
   ]
  },
  {
   "cell_type": "code",
   "execution_count": 31,
   "metadata": {},
   "outputs": [
    {
     "data": {
      "application/vnd.jupyter.widget-view+json": {
       "model_id": "a1bb4c2479c442b9bf56a32c80ae8fcb",
       "version_major": 2,
       "version_minor": 0
      },
      "text/plain": [
       "interactive(children=(IntSlider(value=2, description='k', max=30, min=1), Output()), _dom_classes=('widget-int…"
      ]
     },
     "metadata": {},
     "output_type": "display_data"
    }
   ],
   "source": [
    "from sklearn.neighbors import KNeighborsClassifier\n",
    "def Knn_Classifier(k):\n",
    "    predictions = Training(xtrain, ytrain, xvalidation,KNeighborsClassifier,params ={\"n_neighbors\": k})\n",
    "    return cfmatrix_and_accuracy(predictions, yvalidation, classNames)\n",
    "interact(Knn_Classifier , k = widgets.IntSlider(min=1, max=30, step=1, value=2));"
   ]
  },
  {
   "cell_type": "markdown",
   "metadata": {},
   "source": [
    "### KNN Model Training with the best parameters"
   ]
  },
  {
   "cell_type": "code",
   "execution_count": 32,
   "metadata": {},
   "outputs": [
    {
     "data": {
      "text/plain": [
       "[0.8178694158075601, 0.8359106529209622, 0.8462199312714777]"
      ]
     },
     "execution_count": 32,
     "metadata": {},
     "output_type": "execute_result"
    }
   ],
   "source": [
    "knnc = KNeighborsClassifier(n_neighbors = 2 )\n",
    "knnc.fit(xtrain,ytrain)\n",
    "prediction = knnc.predict(xvalidation)\n",
    "Accuracy.append(accuracy_score(yvalidation, prediction))\n",
    "Accuracy"
   ]
  },
  {
   "cell_type": "markdown",
   "metadata": {},
   "source": [
    "# KNN Regression"
   ]
  },
  {
   "cell_type": "code",
   "execution_count": 33,
   "metadata": {},
   "outputs": [
    {
     "data": {
      "application/vnd.jupyter.widget-view+json": {
       "model_id": "7699577ef8e645c9961d1c01de4cecb8",
       "version_major": 2,
       "version_minor": 0
      },
      "text/plain": [
       "interactive(children=(IntSlider(value=1, description='k', max=30, min=1), Output()), _dom_classes=('widget-int…"
      ]
     },
     "metadata": {},
     "output_type": "display_data"
    }
   ],
   "source": [
    "from sklearn.neighbors import KNeighborsRegressor\n",
    "def Knn_Regressor(k):\n",
    "    predictions = Training(xtrain, ytrain, xvalidation,KNeighborsRegressor,params ={\"n_neighbors\": k})\n",
    "    predictions[predictions < 0.5] = 0\n",
    "    predictions[predictions >= 0.5] = 1\n",
    "    return cfmatrix_and_accuracy(predictions, yvalidation, classNames)\n",
    "interact(Knn_Regressor , k = widgets.IntSlider(min=1, max=30, step=1, value=1));"
   ]
  },
  {
   "cell_type": "markdown",
   "metadata": {},
   "source": [
    "### KNN Model Training with the best parameters"
   ]
  },
  {
   "cell_type": "code",
   "execution_count": 34,
   "metadata": {},
   "outputs": [
    {
     "data": {
      "text/plain": [
       "[0.8178694158075601, 0.8359106529209622, 0.8462199312714777, 0.845360824742268]"
      ]
     },
     "execution_count": 34,
     "metadata": {},
     "output_type": "execute_result"
    }
   ],
   "source": [
    "knnr = KNeighborsRegressor(n_neighbors = 1)\n",
    "knnr.fit(xtrain,ytrain)\n",
    "prediction = knnr.predict(xvalidation)\n",
    "predictions[predictions < 0.5] = 0\n",
    "predictions[predictions >= 0.5] = 1\n",
    "Accuracy.append(accuracy_score(yvalidation, prediction))\n",
    "Accuracy"
   ]
  },
  {
   "cell_type": "markdown",
   "metadata": {},
   "source": [
    "# Random Forest Classification"
   ]
  },
  {
   "cell_type": "code",
   "execution_count": 38,
   "metadata": {},
   "outputs": [
    {
     "name": "stdout",
     "output_type": "stream",
     "text": [
      "    Accuracy = 0.865979381443299 \n"
     ]
    },
    {
     "data": {
      "image/png": "[encoded data removed]",
      "text/plain": [
       "<Figure size 432x288 with 2 Axes>"
      ]
     },
     "metadata": {
      "needs_background": "light"
     },
     "output_type": "display_data"
    }
   ],
   "source": [
    "from sklearn.ensemble import RandomForestClassifier\n",
    "from sklearn.model_selection import GridSearchCV\n",
    "parameters = {\"n_estimators\":list(range(10,300, 50)),\"max_features\":(\"sqrt\", \"log2\")}\n",
    "rfc = RandomForestClassifier()\n",
    "gd_rfc = GridSearchCV(rfc, parameters)\n",
    "gd_rfc.fit(xtrain, ytrain)\n",
    "predictions = gd_rfc.predict(xvalidation)\n",
    "Accuracy.append(cfmatrix_and_accuracy(predictions, yvalidation, classNames))"
   ]
  },
  {
   "cell_type": "markdown",
   "metadata": {},
   "source": [
    "### RFC Model Training with the best parameters"
   ]
  },
  {
   "cell_type": "code",
   "execution_count": 39,
   "metadata": {},
   "outputs": [],
   "source": [
    "rfc = RandomForestClassifier(**gd_rfc.best_params_)\n",
    "rfc.fit(xtrain, ytrain);"
   ]
  },
  {
   "cell_type": "markdown",
   "metadata": {},
   "source": [
    "# SVC"
   ]
  },
  {
   "cell_type": "code",
   "execution_count": 40,
   "metadata": {},
   "outputs": [],
   "source": [
    "from sklearn import svm\n",
    "parameters = {'kernel' : ('linear', 'poly', 'sigmoid'),'C': [0.1, 1, 10, 100] }\n",
    "svc = svm.SVC()\n",
    "gd_svc = GridSearchCV(svc, parameters)\n",
    "gd_svc.fit(xtrain, ytrain);"
   ]
  },
  {
   "cell_type": "code",
   "execution_count": 41,
   "metadata": {},
   "outputs": [
    {
     "name": "stdout",
     "output_type": "stream",
     "text": [
      "          Train\n",
      "    Accuracy = 0.7975104935591257 \n"
     ]
    },
    {
     "data": {
      "image/png": "[encoded data removed]",
      "text/plain": [
       "<Figure size 432x288 with 2 Axes>"
      ]
     },
     "metadata": {
      "needs_background": "light"
     },
     "output_type": "display_data"
    }
   ],
   "source": [
    "predictions = gd_svc.predict(xtrain)\n",
    "print(\"          Train\")\n",
    "cfmatrix_and_accuracy(predictions, ytrain, classNames);"
   ]
  },
  {
   "cell_type": "code",
   "execution_count": 42,
   "metadata": {},
   "outputs": [
    {
     "name": "stdout",
     "output_type": "stream",
     "text": [
      "          Validation\n",
      "    Accuracy = 0.7268041237113402 \n"
     ]
    },
    {
     "data": {
      "image/png": "[encoded data removed]",
      "text/plain": [
       "<Figure size 432x288 with 2 Axes>"
      ]
     },
     "metadata": {
      "needs_background": "light"
     },
     "output_type": "display_data"
    }
   ],
   "source": [
    "predictions = gd_svc.predict(xvalidation)\n",
    "print(\"          Validation\")\n",
    "Accuracy.append(cfmatrix_and_accuracy(predictions, yvalidation, classNames))"
   ]
  },
  {
   "cell_type": "markdown",
   "metadata": {},
   "source": [
    "### SVC Model Training with the best parameters"
   ]
  },
  {
   "cell_type": "code",
   "execution_count": 43,
   "metadata": {},
   "outputs": [],
   "source": [
    "svc = svm.SVC(**gd_svc.best_params_)\n",
    "svc.fit(xtrain, ytrain);"
   ]
  },
  {
   "cell_type": "markdown",
   "metadata": {},
   "source": [
    "# Model choosing and saving"
   ]
  },
  {
   "cell_type": "markdown",
   "metadata": {},
   "source": [
    "### We օbserved 6 models "
   ]
  },
  {
   "cell_type": "code",
   "execution_count": 47,
   "metadata": {},
   "outputs": [
    {
     "data": {
      "text/html": [
       "<div>\n",
       "<style scoped>\n",
       "    .dataframe tbody tr th:only-of-type {\n",
       "        vertical-align: middle;\n",
       "    }\n",
       "\n",
       "    .dataframe tbody tr th {\n",
       "        vertical-align: top;\n",
       "    }\n",
       "\n",
       "    .dataframe thead th {\n",
       "        text-align: right;\n",
       "    }\n",
       "</style>\n",
       "<table border=\"1\" class=\"dataframe\">\n",
       "  <thead>\n",
       "    <tr style=\"text-align: right;\">\n",
       "      <th></th>\n",
       "      <th>Models</th>\n",
       "      <th>Accuracy</th>\n",
       "    </tr>\n",
       "  </thead>\n",
       "  <tbody>\n",
       "    <tr>\n",
       "      <th>0</th>\n",
       "      <td>Decision Tree Classifier</td>\n",
       "      <td>0.817869</td>\n",
       "    </tr>\n",
       "    <tr>\n",
       "      <th>1</th>\n",
       "      <td>Decision Tree Regressor</td>\n",
       "      <td>0.835911</td>\n",
       "    </tr>\n",
       "    <tr>\n",
       "      <th>2</th>\n",
       "      <td>KNN Classifier</td>\n",
       "      <td>0.846220</td>\n",
       "    </tr>\n",
       "    <tr>\n",
       "      <th>3</th>\n",
       "      <td>KNN Regressor</td>\n",
       "      <td>0.845361</td>\n",
       "    </tr>\n",
       "    <tr>\n",
       "      <th>4</th>\n",
       "      <td>Random Forest Classifier</td>\n",
       "      <td>0.865979</td>\n",
       "    </tr>\n",
       "    <tr>\n",
       "      <th>5</th>\n",
       "      <td>SVC</td>\n",
       "      <td>0.726804</td>\n",
       "    </tr>\n",
       "  </tbody>\n",
       "</table>\n",
       "</div>"
      ],
      "text/plain": [
       "                     Models  Accuracy\n",
       "0  Decision Tree Classifier  0.817869\n",
       "1   Decision Tree Regressor  0.835911\n",
       "2            KNN Classifier  0.846220\n",
       "3             KNN Regressor  0.845361\n",
       "4  Random Forest Classifier  0.865979\n",
       "5                       SVC  0.726804"
      ]
     },
     "execution_count": 47,
     "metadata": {},
     "output_type": "execute_result"
    },
    {
     "data": {
      "image/png": "[encoded data removed]",
      "text/plain": [
       "<Figure size 1224x360 with 1 Axes>"
      ]
     },
     "metadata": {
      "needs_background": "light"
     },
     "output_type": "display_data"
    }
   ],
   "source": [
    "models = pd.DataFrame({\"Models\":[\"Decision Tree Classifier\", \"Decision Tree Regressor\",\"KNN Classifier\", \n",
    "                                 \"KNN Regressor\", \"Random Forest Classifier\", \"SVC\"], \n",
    "\"Accuracy\":Accuracy})\n",
    "plt.figure(figsize = (17,5))\n",
    "plt.bar(models[\"Models\"], models[\"Accuracy\"], width = 0.5);\n",
    "plt.xlabel(\"Models\")\n",
    "plt.ylabel(\"Accuracy\");\n",
    "models"
   ]
  },
  {
   "cell_type": "markdown",
   "metadata": {},
   "source": [
    "### The best model , which accuracy is maximum , is Random Forest Classification."
   ]
  },
  {
   "cell_type": "code",
   "execution_count": 48,
   "metadata": {},
   "outputs": [],
   "source": [
    "# save the model to disk\n",
    "import pickle\n",
    "filename = 'finalized_model.sav'\n",
    "pickle.dump(rfc, open(filename, 'wb'))"
   ]
  },
  {
   "cell_type": "markdown",
   "metadata": {},
   "source": [
    "### Load the model from disk and count score"
   ]
  },
  {
   "cell_type": "code",
   "execution_count": 49,
   "metadata": {},
   "outputs": [
    {
     "data": {
      "text/plain": [
       "0.893353941267388"
      ]
     },
     "execution_count": 49,
     "metadata": {},
     "output_type": "execute_result"
    }
   ],
   "source": [
    "loaded_model = pickle.load(open(filename, 'rb'))\n",
    "loaded_model.score(xtest, ytest)"
   ]
  }
 ],
 "metadata": {
  "kernelspec": {
   "display_name": "Python 3",
   "language": "python",
   "name": "python3"
  },
  "language_info": {
   "codemirror_mode": {
    "name": "ipython",
    "version": 3
   },
   "file_extension": ".py",
   "mimetype": "text/x-python",
   "name": "python",
   "nbconvert_exporter": "python",
   "pygments_lexer": "ipython3",
   "version": "3.8.5"
  },
  "widgets": {
   "application/vnd.jupyter.widget-state+json": {
    "state": {
     "068a7f9bb03d4cc689855fc88c02911a": {
      "model_module": "@jupyter-widgets/controls",
      "model_module_version": "1.5.0",
      "model_name": "IntSliderModel",
      "state": {
       "description": "k",
       "layout": "IPY_MODEL_d3b42ef666a24bafb87a706fce5e4dd4",
       "max": 30,
       "min": 1,
       "style": "IPY_MODEL_823f5f2b342149cd8b361f6799f25e1d",
       "value": 2
      }
     },
     "068bc1462c264551b438bb0b89389b44": {
      "model_module": "@jupyter-widgets/controls",
      "model_module_version": "1.5.0",
      "model_name": "VBoxModel",
      "state": {
       "_dom_classes": [
        "widget-interact"
       ],
       "children": [
        "IPY_MODEL_a6049daa559341baa7db6542532b409f",
        "IPY_MODEL_8fe4ff4775a4488da2e53255687ee1ba"
       ],
       "layout": "IPY_MODEL_e35c4b4fbf354618a2173b3cf3e108c7"
      }
     },
     "0dab9e69101444199f99bb949b94c18c": {
      "model_module": "@jupyter-widgets/controls",
      "model_module_version": "1.5.0",
      "model_name": "VBoxModel",
      "state": {
       "_dom_classes": [
        "widget-interact"
       ],
       "children": [
        "IPY_MODEL_2f08eec51e524bee9f9707ed5170b6bf",
        "IPY_MODEL_9ee80696b5b3437588c0c4569501440a"
       ],
       "layout": "IPY_MODEL_49a10fbde26a4e51abfadae13a572226"
      }
     },
     "17d260bafe2c465b9acb597fabb9a1d8": {
      "model_module": "@jupyter-widgets/base",
      "model_module_version": "1.2.0",
      "model_name": "LayoutModel",
      "state": {}
     },
     "253c565520434ab292a6c3934bd05b8b": {
      "model_module": "@jupyter-widgets/base",
      "model_module_version": "1.2.0",
      "model_name": "LayoutModel",
      "state": {}
     },
     "2f08eec51e524bee9f9707ed5170b6bf": {
      "model_module": "@jupyter-widgets/controls",
      "model_module_version": "1.5.0",
      "model_name": "IntSliderModel",
      "state": {
       "description": "maxdepth",
       "layout": "IPY_MODEL_665716e4f9d24616a0a8f08a93da0b07",
       "max": 30,
       "min": 5,
       "style": "IPY_MODEL_cfabbb65bdf7428288a403d230355463",
       "value": 16
      }
     },
     "49a10fbde26a4e51abfadae13a572226": {
      "model_module": "@jupyter-widgets/base",
      "model_module_version": "1.2.0",
      "model_name": "LayoutModel",
      "state": {}
     },
     "51bc49ed74bd413591fd7d183ac48f6f": {
      "model_module": "@jupyter-widgets/controls",
      "model_module_version": "1.5.0",
      "model_name": "SliderStyleModel",
      "state": {
       "description_width": ""
      }
     },
     "5510714b8fab47d8960671f188681007": {
      "model_module": "@jupyter-widgets/base",
      "model_module_version": "1.2.0",
      "model_name": "LayoutModel",
      "state": {}
     },
     "5ea436cf9ed1409ca9972e1bc604f88f": {
      "model_module": "@jupyter-widgets/base",
      "model_module_version": "1.2.0",
      "model_name": "LayoutModel",
      "state": {}
     },
     "665716e4f9d24616a0a8f08a93da0b07": {
      "model_module": "@jupyter-widgets/base",
      "model_module_version": "1.2.0",
      "model_name": "LayoutModel",
      "state": {}
     },
     "722fa48fd8fe412dac1a979084384a37": {
      "model_module": "@jupyter-widgets/output",
      "model_module_version": "1.0.0",
      "model_name": "OutputModel",
      "state": {
       "layout": "IPY_MODEL_77fa146feddb423792c99765c506ec1a",
       "outputs": [
        {
         "name": "stdout",
         "output_type": "stream",
         "text": "    Accuracy = 0.845360824742268 \n"
        },
        {
         "data": {
          "image/png": "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\n",
          "text/plain": "<Figure size 432x288 with 2 Axes>"
         },
         "metadata": {
          "needs_background": "light"
         },
         "output_type": "display_data"
        },
        {
         "data": {
          "text/plain": "0.845360824742268"
         },
         "metadata": {},
         "output_type": "display_data"
        }
       ]
      }
     },
     "7699577ef8e645c9961d1c01de4cecb8": {
      "model_module": "@jupyter-widgets/controls",
      "model_module_version": "1.5.0",
      "model_name": "VBoxModel",
      "state": {
       "_dom_classes": [
        "widget-interact"
       ],
       "children": [
        "IPY_MODEL_854ace11b3d8453a89232f7b3199451b",
        "IPY_MODEL_722fa48fd8fe412dac1a979084384a37"
       ],
       "layout": "IPY_MODEL_5ea436cf9ed1409ca9972e1bc604f88f"
      }
     },
     "77fa146feddb423792c99765c506ec1a": {
      "model_module": "@jupyter-widgets/base",
      "model_module_version": "1.2.0",
      "model_name": "LayoutModel",
      "state": {}
     },
     "823f5f2b342149cd8b361f6799f25e1d": {
      "model_module": "@jupyter-widgets/controls",
      "model_module_version": "1.5.0",
      "model_name": "SliderStyleModel",
      "state": {
       "description_width": ""
      }
     },
     "854ace11b3d8453a89232f7b3199451b": {
      "model_module": "@jupyter-widgets/controls",
      "model_module_version": "1.5.0",
      "model_name": "IntSliderModel",
      "state": {
       "description": "k",
       "layout": "IPY_MODEL_db7336ab0e964967856befbd4cb7e6cb",
       "max": 30,
       "min": 1,
       "style": "IPY_MODEL_bdebdf90228f481bbde148791159c896",
       "value": 1
      }
     },
     "86770e05824f4649b95aa63e483c0422": {
      "model_module": "@jupyter-widgets/base",
      "model_module_version": "1.2.0",
      "model_name": "LayoutModel",
      "state": {}
     },
     "8fe4ff4775a4488da2e53255687ee1ba": {
      "model_module": "@jupyter-widgets/output",
      "model_module_version": "1.0.0",
      "model_name": "OutputModel",
      "state": {
       "layout": "IPY_MODEL_5510714b8fab47d8960671f188681007",
       "outputs": [
        {
         "name": "stdout",
         "output_type": "stream",
         "text": "           Train \n    Accuracy = 0.9202489506440874 \n           Validation \n    Accuracy = 0.8256013745704467 \n"
        },
        {
         "data": {
          "image/png": "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\n",
          "text/plain": "<Figure size 432x288 with 2 Axes>"
         },
         "metadata": {
          "needs_background": "light"
         },
         "output_type": "display_data"
        },
        {
         "data": {
          "image/png": "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\n",
          "text/plain": "<Figure size 432x288 with 2 Axes>"
         },
         "metadata": {
          "needs_background": "light"
         },
         "output_type": "display_data"
        }
       ]
      }
     },
     "9ee80696b5b3437588c0c4569501440a": {
      "model_module": "@jupyter-widgets/output",
      "model_module_version": "1.0.0",
      "model_name": "OutputModel",
      "state": {
       "layout": "IPY_MODEL_86770e05824f4649b95aa63e483c0422",
       "outputs": [
        {
         "name": "stdout",
         "output_type": "stream",
         "text": "           Train \n    Accuracy = 0.908669850919091 \n           Validation \n    Accuracy = 0.8152920962199313 \n"
        },
        {
         "data": {
          "image/png": "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\n",
          "text/plain": "<Figure size 432x288 with 2 Axes>"
         },
         "metadata": {
          "needs_background": "light"
         },
         "output_type": "display_data"
        },
        {
         "data": {
          "image/png": "iVBORw0KGgoAAAANSUhEUgAAATgAAAEGCAYAAADxD4m3AAAAOXRFWHRTb2Z0d2FyZQBNYXRwbG90bGliIHZlcnNpb24zLjMuMiwgaHR0cHM6Ly9tYXRwbG90bGliLm9yZy8vihELAAAACXBIWXMAAAsTAAALEwEAmpwYAAAgLUlEQVR4nO3de5xVdb3/8debGe43hzsCJiZqgIrmNY+Gt0DtJ3ZOdjA9D37F+XFKTCvLsE4XK87xZ2WaRh2yTpQXoqMmpUZKesSOiqBIgpIkBMgAch/uzMzn/LEWusWZPXvLbGf24v18PNZj1vrutb7rux35zPeyvuuriMDMLIvatHQBzMxKxQHOzDLLAc7MMssBzswyywHOzDKrsqULkKtXj4o4fFDbli6GFeEvCzu1dBGsCLvYzp7YrQPJY9TZnWPDxrqCzp2/cPesiBh9IPc7EK0qwB0+qC1zZw1q6WJYEUYdOqKli2BFeCZmH3AeGzbWMXfWYQWdW9H/lV4HfMMD0KoCnJm1fgHUU9/SxSiIA5yZFSUI9kZhTdSW5gBnZkVzDc7MMikI6spkiqcDnJkVrR4HODPLoADqHODMLKtcgzOzTApgr/vgzCyLgnAT1cwyKqCuPOKbA5yZFSeZyVAeHODMrEiijgOar/+ucYAzs6IkgwwOcGaWQclzcA5wZpZR9a7BmVkWuQZnZpkViLoyWe3AAc7MiuYmqpllUiD2REVLF6MgDnBmVpTkQV83Uc0sozzIYGaZFCHqwjU4M8uoetfgzCyLkkGG8ggd5VFKM2s1ymmQoTxKaWatSl2ooC0fSUdLWpCzbZX0WUk9JD0i6ZX0Z1XONddLWippiaRRTZXTAc7MirJvJkMhW958IpZExIiIGAG8H9gB3A9MAmZHxBBgdnqMpKHAWGAYMBqYIinvA3kOcGZWtPpoU9BWhHOBv0bE34AxwLQ0fRpwSbo/BpgeEbsjYhmwFDglX6bugzOzoiST7QsOXr0kzcs5nhoRUxs4byxwT7rfNyKqASKiWlKfNH0A8HTONavStEY5wJlZUQKxt/CpWusj4qR8J0hqB1wMXN9EXg116uVdHcIBzsyKEkFzP+h7AfBcRKxNj9dK6p/W3voD69L0VcCgnOsGAqvzZew+ODMrkqgvcCvQZbzZPAWYCYxL98cBD+Skj5XUXtJgYAgwN1/GrsGZWVGC5qvBSeoEnA/8S07yjcAMSeOBFcClABGxSNIMYDFQC0yMiLp8+TvAmVnRmuuFlxGxA+i5X9oGklHVhs6fDEwuNH8HODMrSiC/8NLMsilZNrA8Qkd5lNLMWhEv/GxmGRVQ7CyFFuMAZ2ZFcw3OzDIpQq7BmVk2JYMMXlXLzDLJazKYWUYlgwzugzOzjGqumQyl5gBnZkXxTAYzy7RyWXTGAc7MihIBe+sd4Mwsg5ImqgOcmWWUZzJkzH1Te/Pw3T2QYPAxu7j2+yto1yHv6+DzemRGFXff2g+Aj1+zhvM/tgmAGycexisvdKKibXD0iB1cc9NKKts2y1ewRlwy/nUuuHwjUvDwXT25/47efPnHyxn43t0AdO5Wx/atFVx5/tEtXNLWoZweEylpPVPS6HSB1qWSJpXyXqW0vrotv/lpL25/+C9MfWwJdfXw+ANVTV8IfPEfjmTNynZvSdu6qYI7b+7Hrb/7Cz948C/ceXM/ajYnT4af8/ebuGPOy/zHH5ewZ1cbHr67Z0PZWjN5z9E7ueDyjVx90RA+dd7RnHr+Vg4dvJt/+9ThXHn+0Vx5/tH86cFD+NND3Vu6qK2ISrFsYEmUrATpgqw/JFlQYihwWbpwa1mqqxW7d7WhrhZ272xDz757Wb28HV/++BFMHHUUn7/kSFa80r6gvOY/3pUTz6qhW1UdXQ+p48Szapj3WFcATjm3BgkkOPqEHayvdvWtlA4bspuXnuvE7p1tqK8TC5/qwhkXbMk5Izjr4s089pvC/qAdLJp5TYaSKWWIPQVYGhGvRsQeYDrJwq1lp1f/vXz00+v4p5OHctmI4XTuWsf7R9Zw63WDmPjtVfxw1l+Y8LXV3P7lgQXlt35NW3ofuvct+a9f89ZAVrsXZv9XFSedXdOs38XeavnLHTj21G10raqlfcd6Tj5nK70P3fPG58NP3c6m1ytZvaywP14Hg2QUtaKgraWVsg9uALAy53gVcOr+J0maAEwAOGxA6+wSrNlcwVOzujPtmcV06VbHtycMZva9VSye15lvTxj8xnl79yR/sWZN78Fv7ugNwOrl7fjqFUdQ2Tbod9huvv6z5Q2u5Kj9/tjddv0ghp+2nWNP3V6qr2XAyqUdmDGlD/8+/VV2bW/DssUdqat985dx9iWbefw3h7RcAVshP+ibKGiR1nSV66kAJx1/AL32JfT8nC70G7SHQ3omC/icceFmFjzZhS7d6vjRo0vedv6osRsZNXYjkPTBXXvLCvoNerNW0Kv/XhY+1eWN4/XVbTnu9G1vHN/5vb5s2VDJNTctK9VXshyz7unJrHuSvs5PTKrm9bRboE1FcMaFW7hq9JCWLF6r1Bqan4UoZRO16EVaW6s+A/by0nOd2LVDRMCCJ7ty5PCd9B20hyd+m3Q+R8BfF3UoKL/3j6xh/n93pWZzBTWbK5j/3115/8ikKfrwXT2Y93g3rp+ynDYt30d7UOjeM+ku6D1gD2dcuOWNGtuJZ9awcml71le3y3P1wWffKGohW0srZQ3uWWBIukDra8BY4OMlvF/JHHPiDs68aAsTRx1NRWVw5PCdXHDFBk49fys/mDSQu2/tR91e8cExm3jvsF1N5tetqo7LP7uWz1x4FACXf24t3aqS2uEPJg2i78A9fPb/JJ+dceFmrvj82kbzsgP3tTv+RteqWur2itu/PIBtW5J/Fh8c4+ZpY5prhFTSIcAdwHCS2PlJYAnwK+BwYDnwsYjYlJ5/PTAeqAOujohZefOPKF2rUNKFwC1ABfCzdE3DRp10fIeYO2tQvlOslRl16IiWLoIV4ZmYzdbYeEBVq6pj+sQ5P/toQefed8aP5kfESY19LmkaMCci7pDUDugEfBnYGBE3po+XVUXEl9KnMO4hGcA8FHgUOCrf4s8l7dWPiIeAh0p5DzN79zVH81NSN+As4P8CpE9b7JE0BhiZnjYNeBz4EslTGNMjYjewTNJSkmD3VGP3cC+PmRWlGfvgjgBeB/5T0vOS7pDUGegbEdUA6c8+6fkNPZkxIN8NHODMrGhFBLhekublbBNysqkETgR+FBEnANuBfDOeCnoyI1frfPDMzFqtIp+DW5+nD24VsCoinkmP/4skwK2V1D8iqiX1B9blnF/UkxmuwZlZ0ZpjqlZErAFWStr3FoNzgcXATGBcmjYOeCDdnwmMldQ+fTpjCDA33z1cgzOzokRAbfO98PIzwF3pCOqrwCdIKl4zJI0HVgCXJveNRZJmkATBWmBivhFUcIAzs3eguR7ijYgFQENN2HMbOX8ykPdxs1wOcGZWFM9FNbNMCwc4M8uqcpls7wBnZkWJKJ9XljvAmVmRRJ2XDTSzrHIfnJllUjmtquUAZ2bFiaQfrhw4wJlZ0TyKamaZFB5kMLMscxPVzDLLo6hmlkkRDnBmlmF+TMTMMst9cGaWSYGo9yiqmWVVmVTgHODMrEgeZDCzTCuTKpwDnJkVrexrcJJuI0+cjoirS1IiM2vVAqivL/MAB8x710phZuUjgHKvwUXEtNxjSZ0jYnvpi2RmrV1zPQcnaTlQA9QBtRFxkqQewK+Aw4HlwMciYlN6/vXA+PT8qyNiVr78m3yYRdLpkhYDL6XHx0ua8k6/kJllQBS4FebsiBgREfvWR50EzI6IIcDs9BhJQ4GxwDBgNDBFUkW+jAt5Wu8WYBSwASAiXgDOKrjoZpYxIqKw7R0aA+xrQU4DLslJnx4RuyNiGbAUOCVfRgU9jhwRK/dLqiu4qGaWPc1XgwvgD5LmS5qQpvWNiGqA9GefNH0AkBuLVqVpjSrkMZGVkj4AhKR2wNWkzVUzOwgFROGjqL0k5Q5YTo2IqTnHZ0TEakl9gEckvZwnr4ZumjeMFhLgPgXcShIpXwNmARMLuM7MMqvgALc+p2/tbSJidfpznaT7SZqcayX1j4hqSf2Bdenpq4BBOZcPBFbnu3mTTdSIWB8Rl0dE34joHRFXRMSGpq4zswxrhiaqpM6Suu7bBz4EvAjMBMalp40DHkj3ZwJjJbWXNBgYAszNd48ma3CSjiCpwZ2WFvkp4HMR8WpT15pZRjXPYyJ9gfslQRKL7o6I30t6FpghaTywArgUICIWSZoBLAZqgYkRkXc8oJAm6t3AD4GPpMdjgXuAU4v/PmZW9prpQd+0knR8A+kbgHMbuWYyMLnQexQyiqqI+GVE1KbbnZTNVFszK4WIwraWlm8uao909zFJk4DpJIHtH4EH34WymVlrlYG5qPNJAtq+b/IvOZ8F8K1SFcrMWje1gtpZIfLNRR38bhbEzMpEcdOwWlRB74OTNBwYCnTYlxYRvyhVocysNVP5v01kH0lfB0aSBLiHgAuAJwEHOLODVZnU4AoZRf0oyZDtmoj4BMmwbvuSlsrMWrf6ArcWVkgTdWdE1EuqldSNZNrEESUul5m1Vll44WWOeZIOAX5CMrK6jSamR5hZtpX9KOo+EXFluvtjSb8HukXEwtIWy8xatXIPcJJOzPdZRDxXmiKZmTWPfDW47+X5LIBzmrksvPJiFy448gPNna2VUOXAqpYughVBa9o2Tz7lXoOLiLPfzYKYWZkIMjFVy8ysYeVegzMza0zZN1HNzBpVJgGukHVRJekKSV9Ljw+TlHepLjPLuOZdF7VkCpmqNQU4HbgsPa4hecOvmR2EFIVvLa2QJuqpEXGipOcBImJTunygmR2sMjSKuldSBWmFU1JvWsU0WjNrKa2hdlaIQpqoPwDuB/pImkzyqqR/K2mpzKx1K5M+uELmot4laT7JK5MEXBIRXtne7GDVSvrXClHICy8PA3YAv81Ni4gVpSyYmbViWQlwJCto7Vt8pgMwGFgCDCthucysFVMz9sKnffzzgNci4sPpin6/Ag4HlgMfi4hN6bnXA+OBOuDqiJiVL+8m++Ai4tiIOC79OQQ4haQfzsysOVwD5HZ7TQJmp/FmdnqMpKEkC88PA0YDU9Lg2KhCBhneIn1N0snFXmdmGdJMgwySBgIXAXfkJI8BpqX704BLctKnR8TuiFgGLCWpcDWqkD64z+cctgFOBF5vuuhmlknFDTL0kjQv53hqREzNOb4FuA7ompPWNyKqASKiWlKfNH0A8HTOeavStEYV0geXe+Nakj65ewu4zsyyqvAAtz4iTmroA0kfBtZFxHxJIwvIq6Gni/OWJG+AS9u3XSLiiwXc3MwOFs0zinoGcLGkC0kGMLtJuhNYK6l/WnvrT7LQFSQ1tkE51w8EVue7QaN9cJIqI6KOpElqZgYk1SjVF7blExHXR8TAiDicZPDgjxFxBTATGJeeNg54IN2fCYyV1F7SYGAITSyAla8GN5ckuC2QNBP4NbA9p3D35S++mWVS6R/0vRGYIWk8sAK4FCAiFkmaASwm6S6bmFbCGlVIH1wPYAPJGgz7nocLwAHO7GDVzAEuIh4HHk/3N5DMnGrovMnA5ELzzRfg+qQjqC/yZmB74z6F3sDMMqhMIkC+AFcBdOEdjFyYWbZlYS5qdUR8810riZmVjwwEuPJ4o52ZvbuieeeillK+ANdgJ5+ZWdnX4CJi47tZEDMrH1nogzMza5gDnJllUit5HXkhHODMrCjCTVQzyzAHODPLLgc4M8ssBzgzy6QsLRtoZvY2DnBmllVZmKplZtYgN1HNLJv8oK+ZZZoDnJllkWcymFmmqb48IpwDnJkVx31wZpZl5dJEbXThZzOzRkWBWx6SOkiaK+kFSYsk3ZCm95D0iKRX0p9VOddcL2mppCWSRjVVTAc4MyuaorCtCbuBcyLieGAEMFrSacAkYHZEDAFmp8dIGgqMBYYBo4Epkiry3cABzsyK1ww1uEhsSw/bplsAY4Bpafo04JJ0fwwwPSJ2R8QyYClwSr57OMCZWXHSVbUK2YBekublbBNys5JUIWkBsA54JCKeAfpGRDVA+rNPevoAYGXO5avStEZ5kMHMilLkc3DrI+Kkxj6MiDpghKRDgPslDW/i1m/LIt/NXYMzs+JFFLYVnF1sBh4n6VtbK6k/QPpzXXraKmBQzmUDgdX58nWAM7OiNccgg6Teac0NSR2B84CXgZnAuPS0ccAD6f5MYKyk9pIGA0OAufnu4Sbqfj7370s55ZxNbN7Qlk9fOOJtn5998etcOiH5o7FzRxtu/9oRLHu58wHds227eq79zlKGDN/G1k1t+fdrhrDutQ4c8b7tXPXNV+nUpY76OjF9ygCeeKjXAd0ri67514Wc8nfr2LypHRMvO+ttnx974ga++t35rF3dEYD/eawf9/x0yAHds7JtHdd+YyFHHrOFmi1tufErJ7CuuhNHDNnKlZNepFPnWurrxK/+873MefTQA7pXq9N8D/r2B6alI6FtgBkR8TtJTwEzJI0HVgCXAkTEIkkzgMVALTAxbeI2qmQBTtLPgA8D6yIiX7u6VXnkvj7MvLMfX/jO0gY/X7OyA9d9fBjbtlZy0lmbuPrbr/K5jx5bUN59Buzi2pv+ypcuH/aW9A9duo5tWyoZf+6JfPCi9XzyuhXceM1R7N7Zhu9+4UhW/60jPfrs4bbfLGT+nEPYXuO/S7kefXAgv/v1e/j8N15o9JxFC6q44fMnF513n/47+NzXFnL9p097S/qoi1exraaS//cPIznr/NV84qol/P+vnMCu3W24+RvHs3plZ3r02sWtv/gTzz3dm+3b2hZ979asOd4HFxELgRMaSN8AnNvINZOByYXeo5RN1J+TtKfLyovPdqNmc+MB5KXnu7Jta/L5ywu60qvf7jc+O3vM69xy70Jun/kCn/nWX2nTprA/c6eft5FH7+8NwJzf92TE6VuA4LXlHVn9t6TWsXFdOzZvaEv3Hnvf4TfLrkXP96Bm6zsLIGePfo2b//NP3HbnHK6a9OeCf2enfnAtsx8cCMCTf+zH8SevB4LVK7qwemVSo9+4vgObN7Wje9Wed1S21qyIUdQWVbIAFxFPABtLlX9rMOrSdcx7InnIetB7d/DBizZw7T8O56qLj6e+Xpx98fqC8unZdw/rq9sBUF8ndmyroFtV7VvOOeq4GirbBtUrOjTvlzhIHHPsZm67aw433PIshx1RA8Cgw7dx5vnVfPGfT+czV5xJfb0YOfq1gvLr2XsXr69Nfhf1dW3Ysa0t3bq/9Y/PUUM307aynupVnZr3y7S0oNkHGUqlxds66XMxEwA66MD6st5Nx522hQ9duo4vjE2amyM+sIUjh23j1vv+DED7DvVs3pDUKr465WX6DtxN23ZB7/67uX1m0pR6YFp/Hrm3D2pg8Dv3/42q3nv44neX8r3rjiSioZFyy2fpkm584uKz2bWzkpM+sI5/vWk+Ez46kuNPXs+Rx2zhlml/AqBd+3o2b0r+0Hzlpvn0O3QHlZVB7347ue3OOQA8MP1wHv3doIZ/Zzn7VT13ce0NL3DzDcdl8ndWLnNRWzzARcRUYCpA94peZfGf7fCjt/PZf/srX/3k+6jZnAQxAY/e35uff/c9bzv/W1ceAzTeB7d+TTt69d/D+jXtaVMRdOpS90YzuVOXWr55x8tM+/5hvLyga2m/WEbt3P5m83Xe//ThyusW0a37HiSY/eAApk055m3XTL7u/UDjfXDr13Wgd99dbFjXkTYV9XTqspeaLcl9Onbeyze+P49f/vgolrxY9ba8M6Es/qX6MZGi9e6/m69OWcJ3rh3Ca8s7vpG+4Knu/N3ojW/0kXXpvpc+h+5uLJu3eHp2D877yOsAnDl6Ay883R0QlW3r+eqUJcy+vzdPPtyz2b/LwaKq5272/Ys8auhm1CbYuqUtC57tyRnnrKF7VfJ76tJtD7377Swoz2ee6MO5F60C4O/OWcPCeT0BUVlZz7/e9Bx/fGgAT87uX4qv0+L2PejbDHNRS67Fa3CtzZe+/xeOO3Ur3apq+eWT8/nlrQOprEx+Uw/d04+Pf2YVXQ+pZeINrwJQVyeu+chxrFjaiV/cPIjJP19MmzZQWyumfGMw61a3b/Kes2b04Yvfe4Wfzn6Oms2V3PjZowA488INDD+5hq6H1HLe3yfPOt78pSN59aXyacq/G6771vMc+/6NdDtkD9N++0fu+skQKiqTHu6H73sPZ5xTzYX/sIK6OrFnVwU3feUEQKxc1pVf/vgovn3bXCSoqxVTvjOM19d0zH9D4A8zB/GFG17gJ/c+Ts3WtmmecOZ51Qw/YSPduu/hvA8nAfD7NxzPq690K9n3f9dFlM0LLxUl6giUdA8wEugFrAW+HhE/zXdN94pecVrHi0pSHiuNNj0y2gTLqP9Zcw9b9qw9oE7BrocMjBPOuqagc+f89rr5+aZqlVrJanARcVmp8jazltUamp+FcBPVzIoTQJk0UR3gzKx45RHfHODMrHhuoppZZpXLKKoDnJkVx8sGmllWJQ/6lkeEc4Azs+K1gjeFFMIBzsyK5hqcmWWT++DMLLvKZy6qA5yZFc9NVDPLpGgdryMvhAOcmRXPNTgzy6zyiG9+o6+ZFU/19QVtefOQBkl6TNJLkhZJuiZN7yHpEUmvpD+rcq65XtJSSUskjWqqnA5wZlacIHnQt5Atv1rg2oh4H3AaMFHSUGASMDsihgCz02PSz8YCw0iWJJ2SLhrdKAc4MyuKCBSFbflERHVEPJfu1wAvAQOAMcC09LRpwCXp/hhgekTsjohlwFLglHz3cIAzs+IVvi5qL0nzcrYJDWUn6XCSVe6fAfpGRHVym6gG+qSnDQBW5ly2Kk1rlAcZzKx4hY+irm9qTQZJXYB7gc9GxFY1tOhsempDJcmXt2twZlac5uuDQ1JbkuB2V0TclyavldQ//bw/sC5NXwUMyrl8ILA6X/4OcGZWtGYaRRXwU+CliLg556OZwLh0fxzwQE76WEntJQ0GhgBz893DTVQzK1I014O+ZwD/BPxZ0oI07cvAjcAMSeOBFcClABGxSNIMYDHJCOzEiKjLdwMHODMrTtAsAS4inqThfjWAcxu5ZjIwudB7OMCZWfE8F9XMssovvDSz7HKAM7NMioC68mijOsCZWfFcgzOzzHKAM7NMCsBrMphZNgWE++DMLIsCDzKYWYa5D87MMssBzsyyqdkm25ecA5yZFSeAJl6F1Fo4wJlZ8VyDM7Ns8lQtM8uqgPBzcGaWWZ7JYGaZ5T44M8ukCI+imlmGuQZnZtkURF3exaxaDQc4MytOGb0uyQs/m1nxor6wrQmSfiZpnaQXc9J6SHpE0ivpz6qcz66XtFTSEkmjmsrfAc7MihJA1EdBWwF+DozeL20SMDsihgCz02MkDQXGAsPSa6ZIqsiXuQOcmRUnotlqcBHxBLBxv+QxwLR0fxpwSU769IjYHRHLgKXAKfnydx+cmRWtiEGGXpLm5RxPjYipTVzTNyKqASKiWlKfNH0A8HTOeavStEa1qgC3tX7D+j9s/8XfWrocJdALWN/ShSiJ7S1dgJLJ6u/sPQeaQQ2bZj0a/9WrwNPXR8T+TdB3Sg2k5W0Ht6oAFxG9W7oMpSBpXkSc1NLlsML5d9a4ZgxYjVkrqX9ae+sPrEvTVwGDcs4bCKzOl5H74MystZkJjEv3xwEP5KSPldRe0mBgCDA3X0atqgZnZgcXSfcAI0n66lYBXwduBGZIGg+sAC4FiIhFkmYAi4FaYGJE5O0MVJTJlItyJmlCAR2r1or4d5YNDnBmllnugzOzzHKAM7PMcoArIUmj0zlzSyVNaunyWNMamhtp5csBrkTSOXI/BC4AhgKXpXPprHX7OW+fG2llygGudE4BlkbEqxGxB5hOMpfOWrFG5kZamXKAK50BwMqc4ybnzZlZ83KAK52i582ZWfNygCudoufNmVnzcoArnWeBIZIGS2pH8qK+mS1cJrODigNciURELXAVMAt4CZgREYtatlTWlHRu5FPA0ZJWpfMhrUx5qpaZZZZrcGaWWQ5wZpZZDnBmllkOcGaWWQ5wZpZZDnBlRFKdpAWSXpT0a0mdDiCvn0v6aLp/R74XAUgaKekD7+AeyyW9bfWlxtL3O2dbkff6hqQvFFtGyzYHuPKyMyJGRMRwYA/wqdwPm1rluzER8c8RsTjPKSOBogOcWUtzgCtfc4Aj09rVY5LuBv4sqULSdyQ9K2mhpH8BUOJ2SYslPQjsW0wXSY9LOindHy3pOUkvSJot6XCSQPq5tPZ4pqTeku5N7/GspDPSa3tK+oOk5yX9Bw3Px30LSb+RNF/SIkkT9vvse2lZZkvqnaa9V9Lv02vmSDqmWf5rWiZ5Va0yJKmS5D1zv0+TTgGGR8SyNEhsiYiTJbUH/iTpD8AJwNHAsUBfkpWJfrZfvr2BnwBnpXn1iIiNkn4MbIuI76bn3Q18PyKelHQYyWyN95GsiPRkRHxT0kXAWwJWIz6Z3qMj8KykeyNiA9AZeC4irpX0tTTvq4CpwKci4hVJpwJTgHPewX9GOwg4wJWXjpIWpPtzgJ+SNB3nRsSyNP1DwHH7+teA7iTrR54F3JMus7Za0h8byP804Il9eUVEY+9FOw8YKr1RQesmqWt6j79Pr31Q0qYCvtPVkj6S7g9Ky7oBqAd+labfCdwnqUv6fX+dc+/2BdzDDlIOcOVlZ0SMyE1I/6Fvz00CPhMRs/Y770Kafl2TCjgHkq6N0yNiZwNlKXjun6SRJMHy9IjYIelxoEMjp0d63837/zcwa4z74LJnFvBpSW0BJB0lqTPwBMmq4BWS+gNnN3DtU8AH01XDkdQjTa8Buuac9weS5iLpeSPS3SeAy9O0C4CqJsraHdiUBrdjSGqQ+7QB9tVCP07S9N0KLJN0aXoPSTq+iXvYQcwBLnvuIOlfey5dOOU/SGrq9wOvAH8GfgT89/4XRsTrJP1m90l6gTebiL8FPrJvkAG4GjgpHcRYzJujuTcAZ0l6jqSpvKKJsv4eqJS0EPgW8HTOZ9uBYZLmk/SxfTNNvxwYn5ZvEX4NvOXht4mYWWa5BmdmmeUAZ2aZ5QBnZpnlAGdmmeUAZ2aZ5QBnZpnlAGdmmfW/oBe31fM0FjkAAAAASUVORK5CYII=\n",
          "text/plain": "<Figure size 432x288 with 2 Axes>"
         },
         "metadata": {
          "needs_background": "light"
         },
         "output_type": "display_data"
        }
       ]
      }
     },
     "a1bb4c2479c442b9bf56a32c80ae8fcb": {
      "model_module": "@jupyter-widgets/controls",
      "model_module_version": "1.5.0",
      "model_name": "VBoxModel",
      "state": {
       "_dom_classes": [
        "widget-interact"
       ],
       "children": [
        "IPY_MODEL_068a7f9bb03d4cc689855fc88c02911a",
        "IPY_MODEL_dd714890e049493fb7d1d0fa9cbe9f17"
       ],
       "layout": "IPY_MODEL_aefb5ec8292a40abb433571e1408bf50"
      }
     },
     "a6049daa559341baa7db6542532b409f": {
      "model_module": "@jupyter-widgets/controls",
      "model_module_version": "1.5.0",
      "model_name": "IntSliderModel",
      "state": {
       "description": "maxdepth",
       "layout": "IPY_MODEL_253c565520434ab292a6c3934bd05b8b",
       "max": 30,
       "min": 5,
       "style": "IPY_MODEL_51bc49ed74bd413591fd7d183ac48f6f",
       "value": 20
      }
     },
     "aefb5ec8292a40abb433571e1408bf50": {
      "model_module": "@jupyter-widgets/base",
      "model_module_version": "1.2.0",
      "model_name": "LayoutModel",
      "state": {}
     },
     "bdebdf90228f481bbde148791159c896": {
      "model_module": "@jupyter-widgets/controls",
      "model_module_version": "1.5.0",
      "model_name": "SliderStyleModel",
      "state": {
       "description_width": ""
      }
     },
     "cfabbb65bdf7428288a403d230355463": {
      "model_module": "@jupyter-widgets/controls",
      "model_module_version": "1.5.0",
      "model_name": "SliderStyleModel",
      "state": {
       "description_width": ""
      }
     },
     "d3b42ef666a24bafb87a706fce5e4dd4": {
      "model_module": "@jupyter-widgets/base",
      "model_module_version": "1.2.0",
      "model_name": "LayoutModel",
      "state": {}
     },
     "db7336ab0e964967856befbd4cb7e6cb": {
      "model_module": "@jupyter-widgets/base",
      "model_module_version": "1.2.0",
      "model_name": "LayoutModel",
      "state": {}
     },
     "dd714890e049493fb7d1d0fa9cbe9f17": {
      "model_module": "@jupyter-widgets/output",
      "model_module_version": "1.0.0",
      "model_name": "OutputModel",
      "state": {
       "layout": "IPY_MODEL_17d260bafe2c465b9acb597fabb9a1d8",
       "outputs": [
        {
         "name": "stdout",
         "output_type": "stream",
         "text": "    Accuracy = 0.8462199312714777 \n"
        },
        {
         "data": {
          "image/png": "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\n",
          "text/plain": "<Figure size 432x288 with 2 Axes>"
         },
         "metadata": {
          "needs_background": "light"
         },
         "output_type": "display_data"
        },
        {
         "data": {
          "text/plain": "0.8462199312714777"
         },
         "metadata": {},
         "output_type": "display_data"
        }
       ]
      }
     },
     "e35c4b4fbf354618a2173b3cf3e108c7": {
      "model_module": "@jupyter-widgets/base",
      "model_module_version": "1.2.0",
      "model_name": "LayoutModel",
      "state": {}
     }
    },
    "version_major": 2,
    "version_minor": 0
   }
  }
 },
 "nbformat": 4,
 "nbformat_minor": 4
}
